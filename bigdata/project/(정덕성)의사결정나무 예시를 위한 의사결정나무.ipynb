{
 "cells": [
  {
   "cell_type": "code",
   "execution_count": 1,
   "metadata": {},
   "outputs": [],
   "source": [
    "import pandas as pd\n",
    "import numpy as np\n",
    "import seaborn as sns\n",
    "import matplotlib\n",
    "import matplotlib.pyplot as plt\n",
    "\n",
    "\n",
    "# K-modes\n",
    "import kmodes\n",
    "\n",
    "# 나무\n",
    "from sklearn.tree import export_graphviz\n",
    "import graphviz\n",
    "\n",
    "# 데이터 분할\n",
    "from sklearn.model_selection import train_test_split\n",
    "\n",
    "# 예측 모형: Logistic regression\n",
    "from sklearn.tree import DecisionTreeClassifier as DTC\n",
    "from sklearn.ensemble import RandomForestClassifier as dtC\n",
    "from sklearn.ensemble import GradientBoostingClassifier as GBC\n",
    "\n",
    "from sklearn.model_selection import GridSearchCV\n",
    "\n",
    "# 평가 함수\n",
    "from sklearn.metrics import accuracy_score\n",
    "from sklearn.metrics import confusion_matrix\n",
    "from sklearn.metrics import roc_curve, auc, f1_score\n",
    "\n",
    "\n",
    "# https://pypi.org/project/kmodes/\n",
    "from kmodes.kmodes import KModes\n",
    "\n",
    "%matplotlib inline\n",
    "matplotlib.rc('font', family = 'NanumBarunGothic')\n",
    "\n",
    "path = '/home/pirl/BDAI-정덕성/Group/Python/'\n",
    "list_files = ['user.csv', 'address.csv', 'contract.csv']"
   ]
  },
  {
   "cell_type": "code",
   "execution_count": 2,
   "metadata": {},
   "outputs": [],
   "source": [
    "df = pd.read_csv(path + 'merged_final.csv', engine='python', encoding = 'euc-kr')"
   ]
  },
  {
   "cell_type": "code",
   "execution_count": 3,
   "metadata": {},
   "outputs": [
    {
     "name": "stdout",
     "output_type": "stream",
     "text": [
      "<class 'pandas.core.frame.DataFrame'>\n",
      "RangeIndex: 49645 entries, 0 to 49644\n",
      "Data columns (total 23 columns):\n",
      "gender              49645 non-null object\n",
      "customerType        49645 non-null object\n",
      "age                 49645 non-null object\n",
      "marital             49645 non-null object\n",
      "residence           49645 non-null object\n",
      "channel             49645 non-null object\n",
      "credit              49645 non-null object\n",
      "payment             49645 non-null object\n",
      "paymentCO           49645 non-null object\n",
      "province            49645 non-null object\n",
      "provinceIS          49645 non-null object\n",
      "cityGrade           49645 non-null object\n",
      "channelType         49645 non-null object\n",
      "contractExtended    49645 non-null object\n",
      "contractType        49645 non-null object\n",
      "contractType_1      49645 non-null object\n",
      "contractType_2      49645 non-null object\n",
      "cityGradeIS         49645 non-null object\n",
      "Termination_str     49645 non-null object\n",
      "maxDay_str          49645 non-null object\n",
      "maxGift_str         49645 non-null object\n",
      "Termination_rate    49645 non-null object\n",
      "overDue_str         49645 non-null object\n",
      "dtypes: object(23)\n",
      "memory usage: 8.7+ MB\n"
     ]
    }
   ],
   "source": [
    "df.info()"
   ]
  },
  {
   "cell_type": "markdown",
   "metadata": {},
   "source": [
    "## X & Y 분리: cityGradeIS 기준"
   ]
  },
  {
   "cell_type": "code",
   "execution_count": 12,
   "metadata": {},
   "outputs": [
    {
     "data": {
      "text/plain": [
       "array(['중도 해약 X'], dtype=object)"
      ]
     },
     "execution_count": 12,
     "metadata": {},
     "output_type": "execute_result"
    }
   ],
   "source": [
    "df_tree = df.query('Termination_str == \"중도 해약 X\"')\n",
    "df_tree = df_tree.query('customerType == \"PERSONAL\"')\n",
    "df_tree['Termination_str'].unique()"
   ]
  },
  {
   "cell_type": "code",
   "execution_count": 13,
   "metadata": {},
   "outputs": [
    {
     "name": "stdout",
     "output_type": "stream",
     "text": [
      "<class 'pandas.core.frame.DataFrame'>\n",
      "Int64Index: 41529 entries, 0 to 49644\n",
      "Data columns (total 23 columns):\n",
      "gender              41529 non-null object\n",
      "customerType        41529 non-null object\n",
      "age                 41529 non-null object\n",
      "marital             41529 non-null object\n",
      "residence           41529 non-null object\n",
      "channel             41529 non-null object\n",
      "credit              41529 non-null object\n",
      "payment             41529 non-null object\n",
      "paymentCO           41529 non-null object\n",
      "province            41529 non-null object\n",
      "provinceIS          41529 non-null object\n",
      "cityGrade           41529 non-null object\n",
      "channelType         41529 non-null object\n",
      "contractExtended    41529 non-null object\n",
      "contractType        41529 non-null object\n",
      "contractType_1      41529 non-null object\n",
      "contractType_2      41529 non-null object\n",
      "cityGradeIS         41529 non-null object\n",
      "Termination_str     41529 non-null object\n",
      "maxDay_str          41529 non-null object\n",
      "maxGift_str         41529 non-null object\n",
      "Termination_rate    41529 non-null object\n",
      "overDue_str         41529 non-null object\n",
      "dtypes: object(23)\n",
      "memory usage: 7.6+ MB\n"
     ]
    }
   ],
   "source": [
    "df_tree.info()"
   ]
  },
  {
   "cell_type": "markdown",
   "metadata": {},
   "source": [
    "## 품종 3종"
   ]
  },
  {
   "cell_type": "code",
   "execution_count": 14,
   "metadata": {},
   "outputs": [],
   "source": [
    "df_tree_short = df_tree.drop(['customerType', # 고객/법인 따로 분석\n",
    "                              'channel', 'channelType',  # channelType 사용\n",
    "                              'credit', 'payment', 'paymentCO', # 경향성 없음\n",
    "                              'province', 'provinceIS',\n",
    "                              'cityGrade', # 실거주지 정보 제외\n",
    "                              'contractExtended', # 목표변수 파생변수 제외\n",
    "                              'contractType_1', 'contractType_2', # 6개 범주 사용\n",
    "                              'Termination_str', \n",
    "                              'maxDay_str', 'maxGift_str', 'Termination_rate', 'overDue_str'],\n",
    "                             axis=1) # 경향성 없음             \n",
    "                                  \n",
    "# X, Y 분리 & Dummy 변수\n",
    "df_tree_y = df_tree[['contractType']]"
   ]
  },
  {
   "cell_type": "code",
   "execution_count": 15,
   "metadata": {},
   "outputs": [
    {
     "data": {
      "text/plain": [
       "array(['MMQ', 'EIQ', 'HIQ', 'MIQ', 'HMQ', 'EMQ'], dtype=object)"
      ]
     },
     "execution_count": 15,
     "metadata": {},
     "output_type": "execute_result"
    }
   ],
   "source": [
    "df_tree_y['contractType'].unique()"
   ]
  },
  {
   "cell_type": "code",
   "execution_count": 16,
   "metadata": {
    "scrolled": true
   },
   "outputs": [
    {
     "name": "stdout",
     "output_type": "stream",
     "text": [
      "<class 'pandas.core.frame.DataFrame'>\n",
      "Int64Index: 41529 entries, 0 to 49644\n",
      "Data columns (total 14 columns):\n",
      "gender_MALE            41529 non-null uint8\n",
      "age_30대                41529 non-null uint8\n",
      "age_40대                41529 non-null uint8\n",
      "age_50대                41529 non-null uint8\n",
      "age_60대 이상             41529 non-null uint8\n",
      "marital_SINGLE         41529 non-null uint8\n",
      "residence_ETC.         41529 non-null uint8\n",
      "residence_HOUSE        41529 non-null uint8\n",
      "residence_OFFICETEL    41529 non-null uint8\n",
      "cityGradeIS_2급지        41529 non-null uint8\n",
      "cityGradeIS_3급지        41529 non-null uint8\n",
      "cityGradeIS_4급지        41529 non-null uint8\n",
      "cityGradeIS_5급지        41529 non-null uint8\n",
      "cityGradeIS_6급지        41529 non-null uint8\n",
      "dtypes: uint8(14)\n",
      "memory usage: 892.2 KB\n"
     ]
    }
   ],
   "source": [
    "df_tree_s = pd.get_dummies(df_tree_short.drop('contractType', axis=1), drop_first = True)\n",
    "df_tree_s.info()"
   ]
  },
  {
   "cell_type": "code",
   "execution_count": 17,
   "metadata": {},
   "outputs": [
    {
     "name": "stdout",
     "output_type": "stream",
     "text": [
      "train data X size:(29070, 14)\n",
      "train data Y size:(29070, 1)\n",
      "test data X size:(12459, 14)\n",
      "test data Y size:(12459, 1)\n"
     ]
    }
   ],
   "source": [
    "# 나무 데이터\n",
    "df_train_s, df_test_s, df_train_y, df_test_y = train_test_split(df_tree_s, df_tree_y, test_size = 0.3)\n",
    "\n",
    "print('train data X size:{}'.format(df_train_s.shape))\n",
    "print('train data Y size:{}'.format(df_train_y.shape))\n",
    "print('test data X size:{}'.format(df_test_s.shape))\n",
    "print('test data Y size:{}'.format(df_test_y.shape))\n"
   ]
  },
  {
   "cell_type": "markdown",
   "metadata": {},
   "source": [
    "# 랜덤포레스트"
   ]
  },
  {
   "cell_type": "code",
   "execution_count": 18,
   "metadata": {},
   "outputs": [
    {
     "data": {
      "text/plain": [
       "DecisionTreeClassifier(class_weight=None, criterion='gini', max_depth=None,\n",
       "                       max_features=None, max_leaf_nodes=None,\n",
       "                       min_impurity_decrease=0.0, min_impurity_split=None,\n",
       "                       min_samples_leaf=1, min_samples_split=2,\n",
       "                       min_weight_fraction_leaf=0.0, presort=False,\n",
       "                       random_state=None, splitter='best')"
      ]
     },
     "execution_count": 18,
     "metadata": {},
     "output_type": "execute_result"
    }
   ],
   "source": [
    "dt_default = DTC()\n",
    "dt_default.fit(df_train_s, df_train_y)"
   ]
  },
  {
   "cell_type": "code",
   "execution_count": 19,
   "metadata": {},
   "outputs": [
    {
     "name": "stdout",
     "output_type": "stream",
     "text": [
      "F1 on Training: 0.621\n",
      "\n",
      "F1 on Test: 0.613\n",
      "\n"
     ]
    }
   ],
   "source": [
    "y_train_pred = dt_default.predict(df_train_s)\n",
    "y_test_pred = dt_default.predict(df_test_s)\n",
    "\n",
    "# # AUC\n",
    "# false_positive_rate, true_positive_rate, thresholds = roc_curve(df_train_y, y_pred)\n",
    "# roc_auc_train = auc(false_positive_rate, true_positive_rate)\n",
    "\n",
    "# false_positive_rate, true_positive_rate, thresholds = roc_curve(df_test_y, y_pred)\n",
    "# roc_auc_test = auc(false_positive_rate, true_positive_rate)\n",
    "\n",
    "# f1 score\n",
    "f1_train = f1_score(df_train_y, y_train_pred, average='micro')\n",
    "f1_test = f1_score(df_test_y, y_test_pred, average='micro')\n",
    "\n",
    "\n",
    "# print('Accuracy on Training: {0:.3f}\\n'.format(dt_default.score(df_train_s, df_train_y)))\n",
    "# print('Accuracy on Test: {0:.3f}\\n'.format(dt_default.score(df_test_s, df_test_y)))\n",
    "\n",
    "# # print('AUC on Training: {0:.3f}\\n'.format(roc_auc_train))\n",
    "# # print('AUC on Test: {0:.3f}\\n'.format(roc_auc_test))\n",
    "print('F1 on Training: {0:.3f}\\n'.format(f1_train))\n",
    "print('F1 on Test: {0:.3f}\\n'.format(f1_test))"
   ]
  },
  {
   "cell_type": "markdown",
   "metadata": {},
   "source": [
    "### Parameter"
   ]
  },
  {
   "cell_type": "code",
   "execution_count": 21,
   "metadata": {},
   "outputs": [],
   "source": [
    "params = {'max_depth': None,\n",
    "          'max_leaf_nodes': None,\n",
    "          'min_samples_leaf': None,\n",
    "          'min_samples_split': None,\n",
    "          'max_features': None}"
   ]
  },
  {
   "cell_type": "markdown",
   "metadata": {},
   "source": [
    "### 나무의 최대 깊이"
   ]
  },
  {
   "cell_type": "code",
   "execution_count": 44,
   "metadata": {},
   "outputs": [
    {
     "data": {
      "text/plain": [
       "<matplotlib.legend.Legend at 0x7fc94a1caf98>"
      ]
     },
     "execution_count": 44,
     "metadata": {},
     "output_type": "execute_result"
    },
    {
     "data": {
      "image/png": "[encoded data removed]",
      "text/plain": [
       "<Figure size 432x288 with 1 Axes>"
      ]
     },
     "metadata": {
      "needs_background": "light"
     },
     "output_type": "display_data"
    }
   ],
   "source": [
    "# Train/Test Score 저장할 list\n",
    "train_accuracy = []; test_accuracy = []; train_f1 = []; test_f1 = []\n",
    "\n",
    "# depth\n",
    "para_depth = [depth for depth in range(1, 31)]\n",
    "\n",
    "\n",
    "for v_depth in para_depth:\n",
    "    dt = DTC(max_depth = v_depth)\n",
    "    dt.fit(df_train_s, df_train_y)\n",
    "    y_train_pred = dt.predict(df_train_s)\n",
    "    y_test_pred = dt.predict(df_test_s)\n",
    "    train_accuracy.append(dt.score(df_train_s, df_train_y))\n",
    "    test_accuracy.append(dt.score(df_test_s, df_test_y))\n",
    "    train_f1.append(f1_score(df_train_y, y_train_pred, average='micro'))\n",
    "    test_f1.append(f1_score(df_test_y, y_test_pred, average='micro'))\n",
    "    \n",
    "    \n",
    "df_score_depth = pd.DataFrame({'N_Tree': para_depth,\n",
    "                             'TrainScore': train_accuracy,\n",
    "                             'TestScore': test_accuracy,\n",
    "                             'TrainF1': train_f1,\n",
    "                             'TestF1': test_f1})\n",
    "\n",
    "plt.plot(para_depth, train_accuracy, linestyle='-', label=\"Train Score\")\n",
    "plt.plot(para_depth, test_accuracy, linestyle='--', label=\"Test Score\")\n",
    "plt.plot(para_depth, train_f1, linestyle='-', label=\"Train F1\")\n",
    "plt.plot(para_depth, test_f1, linestyle='--', label=\"Test F1\")\n",
    "plt.legend()"
   ]
  },
  {
   "cell_type": "code",
   "execution_count": 45,
   "metadata": {},
   "outputs": [
    {
     "data": {
      "text/html": [
       "<div>\n",
       "<style scoped>\n",
       "    .dataframe tbody tr th:only-of-type {\n",
       "        vertical-align: middle;\n",
       "    }\n",
       "\n",
       "    .dataframe tbody tr th {\n",
       "        vertical-align: top;\n",
       "    }\n",
       "\n",
       "    .dataframe thead th {\n",
       "        text-align: right;\n",
       "    }\n",
       "</style>\n",
       "<table border=\"1\" class=\"dataframe\">\n",
       "  <thead>\n",
       "    <tr style=\"text-align: right;\">\n",
       "      <th></th>\n",
       "      <th>N_Tree</th>\n",
       "      <th>TrainScore</th>\n",
       "      <th>TestScore</th>\n",
       "      <th>TrainF1</th>\n",
       "      <th>TestF1</th>\n",
       "    </tr>\n",
       "  </thead>\n",
       "  <tbody>\n",
       "    <tr>\n",
       "      <th>15</th>\n",
       "      <td>16</td>\n",
       "      <td>0.621053</td>\n",
       "      <td>0.613292</td>\n",
       "      <td>0.621053</td>\n",
       "      <td>0.613292</td>\n",
       "    </tr>\n",
       "    <tr>\n",
       "      <th>16</th>\n",
       "      <td>17</td>\n",
       "      <td>0.621053</td>\n",
       "      <td>0.613292</td>\n",
       "      <td>0.621053</td>\n",
       "      <td>0.613292</td>\n",
       "    </tr>\n",
       "    <tr>\n",
       "      <th>28</th>\n",
       "      <td>29</td>\n",
       "      <td>0.621053</td>\n",
       "      <td>0.613292</td>\n",
       "      <td>0.621053</td>\n",
       "      <td>0.613292</td>\n",
       "    </tr>\n",
       "    <tr>\n",
       "      <th>27</th>\n",
       "      <td>28</td>\n",
       "      <td>0.621053</td>\n",
       "      <td>0.613292</td>\n",
       "      <td>0.621053</td>\n",
       "      <td>0.613292</td>\n",
       "    </tr>\n",
       "    <tr>\n",
       "      <th>26</th>\n",
       "      <td>27</td>\n",
       "      <td>0.621053</td>\n",
       "      <td>0.613292</td>\n",
       "      <td>0.621053</td>\n",
       "      <td>0.613292</td>\n",
       "    </tr>\n",
       "    <tr>\n",
       "      <th>25</th>\n",
       "      <td>26</td>\n",
       "      <td>0.621053</td>\n",
       "      <td>0.613292</td>\n",
       "      <td>0.621053</td>\n",
       "      <td>0.613292</td>\n",
       "    </tr>\n",
       "    <tr>\n",
       "      <th>24</th>\n",
       "      <td>25</td>\n",
       "      <td>0.621053</td>\n",
       "      <td>0.613292</td>\n",
       "      <td>0.621053</td>\n",
       "      <td>0.613292</td>\n",
       "    </tr>\n",
       "    <tr>\n",
       "      <th>23</th>\n",
       "      <td>24</td>\n",
       "      <td>0.621053</td>\n",
       "      <td>0.613292</td>\n",
       "      <td>0.621053</td>\n",
       "      <td>0.613292</td>\n",
       "    </tr>\n",
       "    <tr>\n",
       "      <th>22</th>\n",
       "      <td>23</td>\n",
       "      <td>0.621053</td>\n",
       "      <td>0.613292</td>\n",
       "      <td>0.621053</td>\n",
       "      <td>0.613292</td>\n",
       "    </tr>\n",
       "    <tr>\n",
       "      <th>21</th>\n",
       "      <td>22</td>\n",
       "      <td>0.621053</td>\n",
       "      <td>0.613292</td>\n",
       "      <td>0.621053</td>\n",
       "      <td>0.613292</td>\n",
       "    </tr>\n",
       "    <tr>\n",
       "      <th>20</th>\n",
       "      <td>21</td>\n",
       "      <td>0.621053</td>\n",
       "      <td>0.613292</td>\n",
       "      <td>0.621053</td>\n",
       "      <td>0.613292</td>\n",
       "    </tr>\n",
       "    <tr>\n",
       "      <th>19</th>\n",
       "      <td>20</td>\n",
       "      <td>0.621053</td>\n",
       "      <td>0.613292</td>\n",
       "      <td>0.621053</td>\n",
       "      <td>0.613292</td>\n",
       "    </tr>\n",
       "    <tr>\n",
       "      <th>18</th>\n",
       "      <td>19</td>\n",
       "      <td>0.621053</td>\n",
       "      <td>0.613292</td>\n",
       "      <td>0.621053</td>\n",
       "      <td>0.613292</td>\n",
       "    </tr>\n",
       "    <tr>\n",
       "      <th>17</th>\n",
       "      <td>18</td>\n",
       "      <td>0.621053</td>\n",
       "      <td>0.613292</td>\n",
       "      <td>0.621053</td>\n",
       "      <td>0.613292</td>\n",
       "    </tr>\n",
       "    <tr>\n",
       "      <th>29</th>\n",
       "      <td>30</td>\n",
       "      <td>0.621053</td>\n",
       "      <td>0.613292</td>\n",
       "      <td>0.621053</td>\n",
       "      <td>0.613292</td>\n",
       "    </tr>\n",
       "    <tr>\n",
       "      <th>14</th>\n",
       "      <td>15</td>\n",
       "      <td>0.621053</td>\n",
       "      <td>0.613292</td>\n",
       "      <td>0.621053</td>\n",
       "      <td>0.613292</td>\n",
       "    </tr>\n",
       "    <tr>\n",
       "      <th>13</th>\n",
       "      <td>14</td>\n",
       "      <td>0.621053</td>\n",
       "      <td>0.613292</td>\n",
       "      <td>0.621053</td>\n",
       "      <td>0.613292</td>\n",
       "    </tr>\n",
       "    <tr>\n",
       "      <th>12</th>\n",
       "      <td>13</td>\n",
       "      <td>0.620709</td>\n",
       "      <td>0.613131</td>\n",
       "      <td>0.620709</td>\n",
       "      <td>0.613131</td>\n",
       "    </tr>\n",
       "    <tr>\n",
       "      <th>11</th>\n",
       "      <td>12</td>\n",
       "      <td>0.619333</td>\n",
       "      <td>0.612007</td>\n",
       "      <td>0.619333</td>\n",
       "      <td>0.612007</td>\n",
       "    </tr>\n",
       "    <tr>\n",
       "      <th>10</th>\n",
       "      <td>11</td>\n",
       "      <td>0.618197</td>\n",
       "      <td>0.611446</td>\n",
       "      <td>0.618197</td>\n",
       "      <td>0.611446</td>\n",
       "    </tr>\n",
       "    <tr>\n",
       "      <th>9</th>\n",
       "      <td>10</td>\n",
       "      <td>0.614035</td>\n",
       "      <td>0.610001</td>\n",
       "      <td>0.614035</td>\n",
       "      <td>0.610001</td>\n",
       "    </tr>\n",
       "    <tr>\n",
       "      <th>8</th>\n",
       "      <td>9</td>\n",
       "      <td>0.604678</td>\n",
       "      <td>0.598443</td>\n",
       "      <td>0.604678</td>\n",
       "      <td>0.598443</td>\n",
       "    </tr>\n",
       "    <tr>\n",
       "      <th>7</th>\n",
       "      <td>8</td>\n",
       "      <td>0.587341</td>\n",
       "      <td>0.579501</td>\n",
       "      <td>0.587341</td>\n",
       "      <td>0.579501</td>\n",
       "    </tr>\n",
       "    <tr>\n",
       "      <th>6</th>\n",
       "      <td>7</td>\n",
       "      <td>0.565256</td>\n",
       "      <td>0.560157</td>\n",
       "      <td>0.565256</td>\n",
       "      <td>0.560157</td>\n",
       "    </tr>\n",
       "    <tr>\n",
       "      <th>5</th>\n",
       "      <td>6</td>\n",
       "      <td>0.524149</td>\n",
       "      <td>0.520588</td>\n",
       "      <td>0.524149</td>\n",
       "      <td>0.520588</td>\n",
       "    </tr>\n",
       "    <tr>\n",
       "      <th>4</th>\n",
       "      <td>5</td>\n",
       "      <td>0.499106</td>\n",
       "      <td>0.496107</td>\n",
       "      <td>0.499106</td>\n",
       "      <td>0.496107</td>\n",
       "    </tr>\n",
       "    <tr>\n",
       "      <th>3</th>\n",
       "      <td>4</td>\n",
       "      <td>0.438424</td>\n",
       "      <td>0.440565</td>\n",
       "      <td>0.438424</td>\n",
       "      <td>0.440565</td>\n",
       "    </tr>\n",
       "    <tr>\n",
       "      <th>2</th>\n",
       "      <td>3</td>\n",
       "      <td>0.394668</td>\n",
       "      <td>0.394815</td>\n",
       "      <td>0.394668</td>\n",
       "      <td>0.394815</td>\n",
       "    </tr>\n",
       "    <tr>\n",
       "      <th>1</th>\n",
       "      <td>2</td>\n",
       "      <td>0.359202</td>\n",
       "      <td>0.359419</td>\n",
       "      <td>0.359202</td>\n",
       "      <td>0.359419</td>\n",
       "    </tr>\n",
       "    <tr>\n",
       "      <th>0</th>\n",
       "      <td>1</td>\n",
       "      <td>0.323461</td>\n",
       "      <td>0.318966</td>\n",
       "      <td>0.323461</td>\n",
       "      <td>0.318966</td>\n",
       "    </tr>\n",
       "  </tbody>\n",
       "</table>\n",
       "</div>"
      ],
      "text/plain": [
       "    N_Tree  TrainScore  TestScore   TrainF1    TestF1\n",
       "15      16    0.621053   0.613292  0.621053  0.613292\n",
       "16      17    0.621053   0.613292  0.621053  0.613292\n",
       "28      29    0.621053   0.613292  0.621053  0.613292\n",
       "27      28    0.621053   0.613292  0.621053  0.613292\n",
       "26      27    0.621053   0.613292  0.621053  0.613292\n",
       "25      26    0.621053   0.613292  0.621053  0.613292\n",
       "24      25    0.621053   0.613292  0.621053  0.613292\n",
       "23      24    0.621053   0.613292  0.621053  0.613292\n",
       "22      23    0.621053   0.613292  0.621053  0.613292\n",
       "21      22    0.621053   0.613292  0.621053  0.613292\n",
       "20      21    0.621053   0.613292  0.621053  0.613292\n",
       "19      20    0.621053   0.613292  0.621053  0.613292\n",
       "18      19    0.621053   0.613292  0.621053  0.613292\n",
       "17      18    0.621053   0.613292  0.621053  0.613292\n",
       "29      30    0.621053   0.613292  0.621053  0.613292\n",
       "14      15    0.621053   0.613292  0.621053  0.613292\n",
       "13      14    0.621053   0.613292  0.621053  0.613292\n",
       "12      13    0.620709   0.613131  0.620709  0.613131\n",
       "11      12    0.619333   0.612007  0.619333  0.612007\n",
       "10      11    0.618197   0.611446  0.618197  0.611446\n",
       "9       10    0.614035   0.610001  0.614035  0.610001\n",
       "8        9    0.604678   0.598443  0.604678  0.598443\n",
       "7        8    0.587341   0.579501  0.587341  0.579501\n",
       "6        7    0.565256   0.560157  0.565256  0.560157\n",
       "5        6    0.524149   0.520588  0.524149  0.520588\n",
       "4        5    0.499106   0.496107  0.499106  0.496107\n",
       "3        4    0.438424   0.440565  0.438424  0.440565\n",
       "2        3    0.394668   0.394815  0.394668  0.394815\n",
       "1        2    0.359202   0.359419  0.359202  0.359419\n",
       "0        1    0.323461   0.318966  0.323461  0.318966"
      ]
     },
     "execution_count": 45,
     "metadata": {},
     "output_type": "execute_result"
    }
   ],
   "source": [
    "df_score_depth.sort_values('TestF1', ascending = False)"
   ]
  },
  {
   "cell_type": "code",
   "execution_count": 46,
   "metadata": {},
   "outputs": [],
   "source": [
    "params['max_depth'] = 16"
   ]
  },
  {
   "cell_type": "markdown",
   "metadata": {},
   "source": [
    "### 최소 분리 노드 크기"
   ]
  },
  {
   "cell_type": "code",
   "execution_count": 47,
   "metadata": {},
   "outputs": [
    {
     "data": {
      "text/plain": [
       "<matplotlib.legend.Legend at 0x7fc94a14ddd8>"
      ]
     },
     "execution_count": 47,
     "metadata": {},
     "output_type": "execute_result"
    },
    {
     "data": {
      "image/png": "[encoded data removed]",
      "text/plain": [
       "<Figure size 432x288 with 1 Axes>"
      ]
     },
     "metadata": {
      "needs_background": "light"
     },
     "output_type": "display_data"
    }
   ],
   "source": [
    "# Train/Test Score 저장할 list\n",
    "train_accuracy = []; test_accuracy = []; train_f1 = []; test_f1 = []\n",
    "\n",
    "# split\n",
    "para_split = [split*10 for split in range(20, 41)]\n",
    "\n",
    "\n",
    "for v_split in para_split:\n",
    "    dt = DTC(max_depth = params['max_depth'],\n",
    "             min_samples_split = v_split)\n",
    "    dt.fit(df_train_s, df_train_y)\n",
    "    y_train_pred = dt.predict(df_train_s)\n",
    "    y_test_pred = dt.predict(df_test_s)\n",
    "    train_accuracy.append(dt.score(df_train_s, df_train_y))\n",
    "    test_accuracy.append(dt.score(df_test_s, df_test_y))\n",
    "    train_f1.append(f1_score(df_train_y, y_train_pred, average='micro'))\n",
    "    test_f1.append(f1_score(df_test_y, y_test_pred, average='micro'))\n",
    "    \n",
    "    \n",
    "df_score_split = pd.DataFrame({'split': para_split,\n",
    "                             'TrainScore': train_accuracy,\n",
    "                             'TestScore': test_accuracy,\n",
    "                             'TrainF1': train_f1,\n",
    "                             'TestF1': test_f1})\n",
    "\n",
    "plt.plot(para_split, train_accuracy, linestyle='-', label=\"Train Score\")\n",
    "plt.plot(para_split, test_accuracy, linestyle='--', label=\"Test Score\")\n",
    "plt.plot(para_split, train_f1, linestyle='-', label=\"Train F1\")\n",
    "plt.plot(para_split, test_f1, linestyle='--', label=\"Test F1\")\n",
    "plt.legend()"
   ]
  },
  {
   "cell_type": "code",
   "execution_count": 48,
   "metadata": {},
   "outputs": [
    {
     "data": {
      "text/html": [
       "<div>\n",
       "<style scoped>\n",
       "    .dataframe tbody tr th:only-of-type {\n",
       "        vertical-align: middle;\n",
       "    }\n",
       "\n",
       "    .dataframe tbody tr th {\n",
       "        vertical-align: top;\n",
       "    }\n",
       "\n",
       "    .dataframe thead th {\n",
       "        text-align: right;\n",
       "    }\n",
       "</style>\n",
       "<table border=\"1\" class=\"dataframe\">\n",
       "  <thead>\n",
       "    <tr style=\"text-align: right;\">\n",
       "      <th></th>\n",
       "      <th>split</th>\n",
       "      <th>TrainScore</th>\n",
       "      <th>TestScore</th>\n",
       "      <th>TrainF1</th>\n",
       "      <th>TestF1</th>\n",
       "    </tr>\n",
       "  </thead>\n",
       "  <tbody>\n",
       "    <tr>\n",
       "      <th>0</th>\n",
       "      <td>200</td>\n",
       "      <td>0.613519</td>\n",
       "      <td>0.606549</td>\n",
       "      <td>0.613519</td>\n",
       "      <td>0.606549</td>\n",
       "    </tr>\n",
       "    <tr>\n",
       "      <th>2</th>\n",
       "      <td>220</td>\n",
       "      <td>0.612831</td>\n",
       "      <td>0.606389</td>\n",
       "      <td>0.612831</td>\n",
       "      <td>0.606389</td>\n",
       "    </tr>\n",
       "    <tr>\n",
       "      <th>1</th>\n",
       "      <td>210</td>\n",
       "      <td>0.613244</td>\n",
       "      <td>0.606228</td>\n",
       "      <td>0.613244</td>\n",
       "      <td>0.606228</td>\n",
       "    </tr>\n",
       "    <tr>\n",
       "      <th>3</th>\n",
       "      <td>230</td>\n",
       "      <td>0.611352</td>\n",
       "      <td>0.605586</td>\n",
       "      <td>0.611352</td>\n",
       "      <td>0.605586</td>\n",
       "    </tr>\n",
       "    <tr>\n",
       "      <th>6</th>\n",
       "      <td>260</td>\n",
       "      <td>0.610974</td>\n",
       "      <td>0.605586</td>\n",
       "      <td>0.610974</td>\n",
       "      <td>0.605586</td>\n",
       "    </tr>\n",
       "    <tr>\n",
       "      <th>7</th>\n",
       "      <td>270</td>\n",
       "      <td>0.610974</td>\n",
       "      <td>0.605586</td>\n",
       "      <td>0.610974</td>\n",
       "      <td>0.605586</td>\n",
       "    </tr>\n",
       "    <tr>\n",
       "      <th>4</th>\n",
       "      <td>240</td>\n",
       "      <td>0.611180</td>\n",
       "      <td>0.605506</td>\n",
       "      <td>0.611180</td>\n",
       "      <td>0.605506</td>\n",
       "    </tr>\n",
       "    <tr>\n",
       "      <th>5</th>\n",
       "      <td>250</td>\n",
       "      <td>0.611180</td>\n",
       "      <td>0.605506</td>\n",
       "      <td>0.611180</td>\n",
       "      <td>0.605506</td>\n",
       "    </tr>\n",
       "    <tr>\n",
       "      <th>11</th>\n",
       "      <td>310</td>\n",
       "      <td>0.608944</td>\n",
       "      <td>0.603339</td>\n",
       "      <td>0.608944</td>\n",
       "      <td>0.603339</td>\n",
       "    </tr>\n",
       "    <tr>\n",
       "      <th>12</th>\n",
       "      <td>320</td>\n",
       "      <td>0.608944</td>\n",
       "      <td>0.603339</td>\n",
       "      <td>0.608944</td>\n",
       "      <td>0.603339</td>\n",
       "    </tr>\n",
       "    <tr>\n",
       "      <th>8</th>\n",
       "      <td>280</td>\n",
       "      <td>0.609219</td>\n",
       "      <td>0.603259</td>\n",
       "      <td>0.609219</td>\n",
       "      <td>0.603259</td>\n",
       "    </tr>\n",
       "    <tr>\n",
       "      <th>13</th>\n",
       "      <td>330</td>\n",
       "      <td>0.608772</td>\n",
       "      <td>0.603178</td>\n",
       "      <td>0.608772</td>\n",
       "      <td>0.603178</td>\n",
       "    </tr>\n",
       "    <tr>\n",
       "      <th>14</th>\n",
       "      <td>340</td>\n",
       "      <td>0.608772</td>\n",
       "      <td>0.603178</td>\n",
       "      <td>0.608772</td>\n",
       "      <td>0.603178</td>\n",
       "    </tr>\n",
       "    <tr>\n",
       "      <th>10</th>\n",
       "      <td>300</td>\n",
       "      <td>0.609013</td>\n",
       "      <td>0.602777</td>\n",
       "      <td>0.609013</td>\n",
       "      <td>0.602777</td>\n",
       "    </tr>\n",
       "    <tr>\n",
       "      <th>9</th>\n",
       "      <td>290</td>\n",
       "      <td>0.609013</td>\n",
       "      <td>0.602777</td>\n",
       "      <td>0.609013</td>\n",
       "      <td>0.602777</td>\n",
       "    </tr>\n",
       "    <tr>\n",
       "      <th>15</th>\n",
       "      <td>350</td>\n",
       "      <td>0.607293</td>\n",
       "      <td>0.601413</td>\n",
       "      <td>0.607293</td>\n",
       "      <td>0.601413</td>\n",
       "    </tr>\n",
       "    <tr>\n",
       "      <th>16</th>\n",
       "      <td>360</td>\n",
       "      <td>0.606605</td>\n",
       "      <td>0.600771</td>\n",
       "      <td>0.606605</td>\n",
       "      <td>0.600771</td>\n",
       "    </tr>\n",
       "    <tr>\n",
       "      <th>17</th>\n",
       "      <td>370</td>\n",
       "      <td>0.606605</td>\n",
       "      <td>0.600771</td>\n",
       "      <td>0.606605</td>\n",
       "      <td>0.600771</td>\n",
       "    </tr>\n",
       "    <tr>\n",
       "      <th>18</th>\n",
       "      <td>380</td>\n",
       "      <td>0.606605</td>\n",
       "      <td>0.600771</td>\n",
       "      <td>0.606605</td>\n",
       "      <td>0.600771</td>\n",
       "    </tr>\n",
       "    <tr>\n",
       "      <th>19</th>\n",
       "      <td>390</td>\n",
       "      <td>0.606570</td>\n",
       "      <td>0.600128</td>\n",
       "      <td>0.606570</td>\n",
       "      <td>0.600128</td>\n",
       "    </tr>\n",
       "    <tr>\n",
       "      <th>20</th>\n",
       "      <td>400</td>\n",
       "      <td>0.605263</td>\n",
       "      <td>0.600128</td>\n",
       "      <td>0.605263</td>\n",
       "      <td>0.600128</td>\n",
       "    </tr>\n",
       "  </tbody>\n",
       "</table>\n",
       "</div>"
      ],
      "text/plain": [
       "    split  TrainScore  TestScore   TrainF1    TestF1\n",
       "0     200    0.613519   0.606549  0.613519  0.606549\n",
       "2     220    0.612831   0.606389  0.612831  0.606389\n",
       "1     210    0.613244   0.606228  0.613244  0.606228\n",
       "3     230    0.611352   0.605586  0.611352  0.605586\n",
       "6     260    0.610974   0.605586  0.610974  0.605586\n",
       "7     270    0.610974   0.605586  0.610974  0.605586\n",
       "4     240    0.611180   0.605506  0.611180  0.605506\n",
       "5     250    0.611180   0.605506  0.611180  0.605506\n",
       "11    310    0.608944   0.603339  0.608944  0.603339\n",
       "12    320    0.608944   0.603339  0.608944  0.603339\n",
       "8     280    0.609219   0.603259  0.609219  0.603259\n",
       "13    330    0.608772   0.603178  0.608772  0.603178\n",
       "14    340    0.608772   0.603178  0.608772  0.603178\n",
       "10    300    0.609013   0.602777  0.609013  0.602777\n",
       "9     290    0.609013   0.602777  0.609013  0.602777\n",
       "15    350    0.607293   0.601413  0.607293  0.601413\n",
       "16    360    0.606605   0.600771  0.606605  0.600771\n",
       "17    370    0.606605   0.600771  0.606605  0.600771\n",
       "18    380    0.606605   0.600771  0.606605  0.600771\n",
       "19    390    0.606570   0.600128  0.606570  0.600128\n",
       "20    400    0.605263   0.600128  0.605263  0.600128"
      ]
     },
     "execution_count": 48,
     "metadata": {},
     "output_type": "execute_result"
    }
   ],
   "source": [
    "df_score_split.sort_values('TestF1', ascending = False)"
   ]
  },
  {
   "cell_type": "code",
   "execution_count": 50,
   "metadata": {},
   "outputs": [],
   "source": [
    "params['min_samples_split'] = 200"
   ]
  },
  {
   "cell_type": "markdown",
   "metadata": {},
   "source": [
    "### 최소 최종노드 크기"
   ]
  },
  {
   "cell_type": "code",
   "execution_count": 51,
   "metadata": {},
   "outputs": [
    {
     "data": {
      "text/plain": [
       "<matplotlib.legend.Legend at 0x7fc94a0d2f98>"
      ]
     },
     "execution_count": 51,
     "metadata": {},
     "output_type": "execute_result"
    },
    {
     "data": {
      "image/png": "[encoded data removed]",
      "text/plain": [
       "<Figure size 432x288 with 1 Axes>"
      ]
     },
     "metadata": {
      "needs_background": "light"
     },
     "output_type": "display_data"
    }
   ],
   "source": [
    "# Train/Test Score 저장할 list\n",
    "train_accuracy = []; test_accuracy = []; train_f1 = []; test_f1 = []\n",
    "\n",
    "# leaf\n",
    "para_leaf = [leaf*10 for leaf in range(1, 11)]\n",
    "\n",
    "\n",
    "for v_leaf in para_leaf:\n",
    "    dt = DTC(max_depth = params['max_depth'],\n",
    "             min_samples_split = params['min_samples_split'],\n",
    "             min_samples_leaf = v_leaf)\n",
    "    dt.fit(df_train_s, df_train_y)\n",
    "    y_train_pred = dt.predict(df_train_s)\n",
    "    y_test_pred = dt.predict(df_test_s)\n",
    "    train_accuracy.append(dt.score(df_train_s, df_train_y))\n",
    "    test_accuracy.append(dt.score(df_test_s, df_test_y))\n",
    "    train_f1.append(f1_score(df_train_y, y_train_pred, average='micro'))\n",
    "    test_f1.append(f1_score(df_test_y, y_test_pred, average='micro'))\n",
    "    \n",
    "    \n",
    "df_score_leaf = pd.DataFrame({'leaf': para_leaf,\n",
    "                             'TrainScore': train_accuracy,\n",
    "                             'TestScore': test_accuracy,\n",
    "                             'TrainF1': train_f1,\n",
    "                             'TestF1': test_f1})\n",
    "\n",
    "plt.plot(para_leaf, train_accuracy, linestyle='-', label=\"Train Score\")\n",
    "plt.plot(para_leaf, test_accuracy, linestyle='--', label=\"Test Score\")\n",
    "plt.plot(para_leaf, train_f1, linestyle='-', label=\"Train F1\")\n",
    "plt.plot(para_leaf, test_f1, linestyle='--', label=\"Test F1\")\n",
    "plt.legend()"
   ]
  },
  {
   "cell_type": "code",
   "execution_count": 52,
   "metadata": {},
   "outputs": [
    {
     "data": {
      "text/html": [
       "<div>\n",
       "<style scoped>\n",
       "    .dataframe tbody tr th:only-of-type {\n",
       "        vertical-align: middle;\n",
       "    }\n",
       "\n",
       "    .dataframe tbody tr th {\n",
       "        vertical-align: top;\n",
       "    }\n",
       "\n",
       "    .dataframe thead th {\n",
       "        text-align: right;\n",
       "    }\n",
       "</style>\n",
       "<table border=\"1\" class=\"dataframe\">\n",
       "  <thead>\n",
       "    <tr style=\"text-align: right;\">\n",
       "      <th></th>\n",
       "      <th>leaf</th>\n",
       "      <th>TrainScore</th>\n",
       "      <th>TestScore</th>\n",
       "      <th>TrainF1</th>\n",
       "      <th>TestF1</th>\n",
       "    </tr>\n",
       "  </thead>\n",
       "  <tbody>\n",
       "    <tr>\n",
       "      <th>1</th>\n",
       "      <td>20</td>\n",
       "      <td>0.612350</td>\n",
       "      <td>0.606630</td>\n",
       "      <td>0.612350</td>\n",
       "      <td>0.606630</td>\n",
       "    </tr>\n",
       "    <tr>\n",
       "      <th>0</th>\n",
       "      <td>10</td>\n",
       "      <td>0.613519</td>\n",
       "      <td>0.606549</td>\n",
       "      <td>0.613519</td>\n",
       "      <td>0.606549</td>\n",
       "    </tr>\n",
       "    <tr>\n",
       "      <th>2</th>\n",
       "      <td>30</td>\n",
       "      <td>0.611490</td>\n",
       "      <td>0.604784</td>\n",
       "      <td>0.611490</td>\n",
       "      <td>0.604784</td>\n",
       "    </tr>\n",
       "    <tr>\n",
       "      <th>4</th>\n",
       "      <td>50</td>\n",
       "      <td>0.610836</td>\n",
       "      <td>0.604061</td>\n",
       "      <td>0.610836</td>\n",
       "      <td>0.604061</td>\n",
       "    </tr>\n",
       "    <tr>\n",
       "      <th>5</th>\n",
       "      <td>60</td>\n",
       "      <td>0.610010</td>\n",
       "      <td>0.603740</td>\n",
       "      <td>0.610010</td>\n",
       "      <td>0.603740</td>\n",
       "    </tr>\n",
       "    <tr>\n",
       "      <th>3</th>\n",
       "      <td>40</td>\n",
       "      <td>0.610458</td>\n",
       "      <td>0.603259</td>\n",
       "      <td>0.610458</td>\n",
       "      <td>0.603259</td>\n",
       "    </tr>\n",
       "    <tr>\n",
       "      <th>6</th>\n",
       "      <td>70</td>\n",
       "      <td>0.607878</td>\n",
       "      <td>0.602697</td>\n",
       "      <td>0.607878</td>\n",
       "      <td>0.602697</td>\n",
       "    </tr>\n",
       "    <tr>\n",
       "      <th>7</th>\n",
       "      <td>80</td>\n",
       "      <td>0.604128</td>\n",
       "      <td>0.599888</td>\n",
       "      <td>0.604128</td>\n",
       "      <td>0.599888</td>\n",
       "    </tr>\n",
       "    <tr>\n",
       "      <th>8</th>\n",
       "      <td>90</td>\n",
       "      <td>0.604128</td>\n",
       "      <td>0.599888</td>\n",
       "      <td>0.604128</td>\n",
       "      <td>0.599888</td>\n",
       "    </tr>\n",
       "    <tr>\n",
       "      <th>9</th>\n",
       "      <td>100</td>\n",
       "      <td>0.600447</td>\n",
       "      <td>0.594109</td>\n",
       "      <td>0.600447</td>\n",
       "      <td>0.594109</td>\n",
       "    </tr>\n",
       "  </tbody>\n",
       "</table>\n",
       "</div>"
      ],
      "text/plain": [
       "   leaf  TrainScore  TestScore   TrainF1    TestF1\n",
       "1    20    0.612350   0.606630  0.612350  0.606630\n",
       "0    10    0.613519   0.606549  0.613519  0.606549\n",
       "2    30    0.611490   0.604784  0.611490  0.604784\n",
       "4    50    0.610836   0.604061  0.610836  0.604061\n",
       "5    60    0.610010   0.603740  0.610010  0.603740\n",
       "3    40    0.610458   0.603259  0.610458  0.603259\n",
       "6    70    0.607878   0.602697  0.607878  0.602697\n",
       "7    80    0.604128   0.599888  0.604128  0.599888\n",
       "8    90    0.604128   0.599888  0.604128  0.599888\n",
       "9   100    0.600447   0.594109  0.600447  0.594109"
      ]
     },
     "execution_count": 52,
     "metadata": {},
     "output_type": "execute_result"
    }
   ],
   "source": [
    "df_score_leaf.sort_values('TestF1', ascending = False)"
   ]
  },
  {
   "cell_type": "code",
   "execution_count": 53,
   "metadata": {},
   "outputs": [],
   "source": [
    "params['min_samples_leaf'] = 100"
   ]
  },
  {
   "cell_type": "markdown",
   "metadata": {},
   "source": [
    "### 최대 사용 변수"
   ]
  },
  {
   "cell_type": "code",
   "execution_count": 54,
   "metadata": {},
   "outputs": [
    {
     "data": {
      "text/plain": [
       "<matplotlib.legend.Legend at 0x7fc94a055ba8>"
      ]
     },
     "execution_count": 54,
     "metadata": {},
     "output_type": "execute_result"
    },
    {
     "data": {
      "image/png": "[encoded data removed]",
      "text/plain": [
       "<Figure size 432x288 with 1 Axes>"
      ]
     },
     "metadata": {
      "needs_background": "light"
     },
     "output_type": "display_data"
    }
   ],
   "source": [
    "# Train/Test Score 저장할 list\n",
    "train_accuracy = []; test_accuracy = []; train_f1 = []; test_f1 = []\n",
    "\n",
    "# feature\n",
    "para_feature = [feature for feature in range(5, len(df_train_s.columns))]\n",
    "\n",
    "\n",
    "for v_feature in para_feature:\n",
    "    dt = DTC(max_depth = params['max_depth'],\n",
    "             min_samples_leaf = params['min_samples_leaf'],\n",
    "             min_samples_split = params['min_samples_split'],\n",
    "             max_features = v_feature)\n",
    "    dt.fit(df_train_s, df_train_y)\n",
    "    y_train_pred = dt.predict(df_train_s)\n",
    "    y_test_pred = dt.predict(df_test_s)\n",
    "    train_accuracy.append(dt.score(df_train_s, df_train_y))\n",
    "    test_accuracy.append(dt.score(df_test_s, df_test_y))\n",
    "    train_f1.append(f1_score(df_train_y, y_train_pred, average='micro'))\n",
    "    test_f1.append(f1_score(df_test_y, y_test_pred, average='micro'))\n",
    "    \n",
    "    \n",
    "df_score_feature = pd.DataFrame({'feature': para_feature,\n",
    "                             'TrainScore': train_accuracy,\n",
    "                             'TestScore': test_accuracy,\n",
    "                             'TrainF1': train_f1,\n",
    "                             'TestF1': test_f1})\n",
    "\n",
    "plt.plot(para_feature, train_accuracy, linestyle='-', label=\"Train Score\")\n",
    "plt.plot(para_feature, test_accuracy, linestyle='--', label=\"Test Score\")\n",
    "plt.plot(para_feature, train_f1, linestyle='-', label=\"Train F1\")\n",
    "plt.plot(para_feature, test_f1, linestyle='--', label=\"Test F1\")\n",
    "plt.legend()"
   ]
  },
  {
   "cell_type": "code",
   "execution_count": 55,
   "metadata": {},
   "outputs": [
    {
     "data": {
      "text/html": [
       "<div>\n",
       "<style scoped>\n",
       "    .dataframe tbody tr th:only-of-type {\n",
       "        vertical-align: middle;\n",
       "    }\n",
       "\n",
       "    .dataframe tbody tr th {\n",
       "        vertical-align: top;\n",
       "    }\n",
       "\n",
       "    .dataframe thead th {\n",
       "        text-align: right;\n",
       "    }\n",
       "</style>\n",
       "<table border=\"1\" class=\"dataframe\">\n",
       "  <thead>\n",
       "    <tr style=\"text-align: right;\">\n",
       "      <th></th>\n",
       "      <th>feature</th>\n",
       "      <th>TrainScore</th>\n",
       "      <th>TestScore</th>\n",
       "      <th>TrainF1</th>\n",
       "      <th>TestF1</th>\n",
       "    </tr>\n",
       "  </thead>\n",
       "  <tbody>\n",
       "    <tr>\n",
       "      <th>8</th>\n",
       "      <td>13</td>\n",
       "      <td>0.599587</td>\n",
       "      <td>0.594189</td>\n",
       "      <td>0.599587</td>\n",
       "      <td>0.594189</td>\n",
       "    </tr>\n",
       "    <tr>\n",
       "      <th>7</th>\n",
       "      <td>12</td>\n",
       "      <td>0.597489</td>\n",
       "      <td>0.592102</td>\n",
       "      <td>0.597489</td>\n",
       "      <td>0.592102</td>\n",
       "    </tr>\n",
       "    <tr>\n",
       "      <th>6</th>\n",
       "      <td>11</td>\n",
       "      <td>0.596113</td>\n",
       "      <td>0.591139</td>\n",
       "      <td>0.596113</td>\n",
       "      <td>0.591139</td>\n",
       "    </tr>\n",
       "    <tr>\n",
       "      <th>5</th>\n",
       "      <td>10</td>\n",
       "      <td>0.588545</td>\n",
       "      <td>0.586082</td>\n",
       "      <td>0.588545</td>\n",
       "      <td>0.586082</td>\n",
       "    </tr>\n",
       "    <tr>\n",
       "      <th>4</th>\n",
       "      <td>9</td>\n",
       "      <td>0.590471</td>\n",
       "      <td>0.581507</td>\n",
       "      <td>0.590471</td>\n",
       "      <td>0.581507</td>\n",
       "    </tr>\n",
       "    <tr>\n",
       "      <th>3</th>\n",
       "      <td>8</td>\n",
       "      <td>0.577055</td>\n",
       "      <td>0.568906</td>\n",
       "      <td>0.577055</td>\n",
       "      <td>0.568906</td>\n",
       "    </tr>\n",
       "    <tr>\n",
       "      <th>1</th>\n",
       "      <td>6</td>\n",
       "      <td>0.561748</td>\n",
       "      <td>0.557830</td>\n",
       "      <td>0.561748</td>\n",
       "      <td>0.557830</td>\n",
       "    </tr>\n",
       "    <tr>\n",
       "      <th>2</th>\n",
       "      <td>7</td>\n",
       "      <td>0.561232</td>\n",
       "      <td>0.555984</td>\n",
       "      <td>0.561232</td>\n",
       "      <td>0.555984</td>\n",
       "    </tr>\n",
       "    <tr>\n",
       "      <th>0</th>\n",
       "      <td>5</td>\n",
       "      <td>0.558204</td>\n",
       "      <td>0.555903</td>\n",
       "      <td>0.558204</td>\n",
       "      <td>0.555903</td>\n",
       "    </tr>\n",
       "  </tbody>\n",
       "</table>\n",
       "</div>"
      ],
      "text/plain": [
       "   feature  TrainScore  TestScore   TrainF1    TestF1\n",
       "8       13    0.599587   0.594189  0.599587  0.594189\n",
       "7       12    0.597489   0.592102  0.597489  0.592102\n",
       "6       11    0.596113   0.591139  0.596113  0.591139\n",
       "5       10    0.588545   0.586082  0.588545  0.586082\n",
       "4        9    0.590471   0.581507  0.590471  0.581507\n",
       "3        8    0.577055   0.568906  0.577055  0.568906\n",
       "1        6    0.561748   0.557830  0.561748  0.557830\n",
       "2        7    0.561232   0.555984  0.561232  0.555984\n",
       "0        5    0.558204   0.555903  0.558204  0.555903"
      ]
     },
     "execution_count": 55,
     "metadata": {},
     "output_type": "execute_result"
    }
   ],
   "source": [
    "df_score_feature.sort_values('TestF1', ascending = False)"
   ]
  },
  {
   "cell_type": "code",
   "execution_count": 56,
   "metadata": {},
   "outputs": [],
   "source": [
    "params['max_features'] = 13"
   ]
  },
  {
   "cell_type": "markdown",
   "metadata": {},
   "source": [
    "### 최종 모형"
   ]
  },
  {
   "cell_type": "code",
   "execution_count": 64,
   "metadata": {
    "scrolled": true
   },
   "outputs": [
    {
     "data": {
      "text/plain": [
       "DecisionTreeClassifier(class_weight=None, criterion='gini', max_depth=6,\n",
       "                       max_features=13, max_leaf_nodes=None,\n",
       "                       min_impurity_decrease=0.0, min_impurity_split=None,\n",
       "                       min_samples_leaf=100, min_samples_split=200,\n",
       "                       min_weight_fraction_leaf=0.0, presort=False,\n",
       "                       random_state=None, splitter='best')"
      ]
     },
     "execution_count": 64,
     "metadata": {},
     "output_type": "execute_result"
    }
   ],
   "source": [
    "dt_final = DTC(max_depth = 6,\n",
    "             min_samples_leaf = params['min_samples_leaf'],\n",
    "             min_samples_split = params['min_samples_split'],\n",
    "             max_features = params['max_features'])\n",
    "dt_final.fit(df_train_s, df_train_y)"
   ]
  },
  {
   "cell_type": "code",
   "execution_count": 65,
   "metadata": {
    "scrolled": false
   },
   "outputs": [
    {
     "name": "stdout",
     "output_type": "stream",
     "text": [
      "F1: 0.523\n",
      "\n",
      "Accuracy: 0.523\n",
      "\n",
      "Confusion Mat:\n",
      "[[ 892  363   29    0  211  156]\n",
      " [ 506 1047   23    0   74  304]\n",
      " [ 104   94  573  117  169  167]\n",
      " [ 185   55  260  525   80  251]\n",
      " [ 206   72  176    2 1744 1192]\n",
      " [ 213   78  114   18  721 1738]]\n"
     ]
    }
   ],
   "source": [
    "y_pred = dt_final.predict(df_test_s)\n",
    "\n",
    "# f1 score\n",
    "f1Score = f1_score(df_test_y, y_pred, average = 'micro')\n",
    "\n",
    "print('F1: {0:.3f}\\n'.format(f1Score))\n",
    "print('Accuracy: {0:.3f}\\n'.format(accuracy_score(df_test_y, y_pred)))\n",
    "print('Confusion Mat:\\n{}'.format(confusion_matrix(df_test_y, y_pred)))"
   ]
  },
  {
   "cell_type": "code",
   "execution_count": 66,
   "metadata": {},
   "outputs": [
    {
     "data": {
      "text/html": [
       "<div>\n",
       "<style scoped>\n",
       "    .dataframe tbody tr th:only-of-type {\n",
       "        vertical-align: middle;\n",
       "    }\n",
       "\n",
       "    .dataframe tbody tr th {\n",
       "        vertical-align: top;\n",
       "    }\n",
       "\n",
       "    .dataframe thead th {\n",
       "        text-align: right;\n",
       "    }\n",
       "</style>\n",
       "<table border=\"1\" class=\"dataframe\">\n",
       "  <thead>\n",
       "    <tr style=\"text-align: right;\">\n",
       "      <th></th>\n",
       "      <th>Feature</th>\n",
       "      <th>Importance</th>\n",
       "    </tr>\n",
       "  </thead>\n",
       "  <tbody>\n",
       "    <tr>\n",
       "      <th>9</th>\n",
       "      <td>cityGradeIS_2급지</td>\n",
       "      <td>0.244</td>\n",
       "    </tr>\n",
       "    <tr>\n",
       "      <th>0</th>\n",
       "      <td>gender_MALE</td>\n",
       "      <td>0.231</td>\n",
       "    </tr>\n",
       "    <tr>\n",
       "      <th>5</th>\n",
       "      <td>marital_SINGLE</td>\n",
       "      <td>0.115</td>\n",
       "    </tr>\n",
       "    <tr>\n",
       "      <th>10</th>\n",
       "      <td>cityGradeIS_3급지</td>\n",
       "      <td>0.094</td>\n",
       "    </tr>\n",
       "    <tr>\n",
       "      <th>2</th>\n",
       "      <td>age_40대</td>\n",
       "      <td>0.092</td>\n",
       "    </tr>\n",
       "    <tr>\n",
       "      <th>11</th>\n",
       "      <td>cityGradeIS_4급지</td>\n",
       "      <td>0.061</td>\n",
       "    </tr>\n",
       "    <tr>\n",
       "      <th>1</th>\n",
       "      <td>age_30대</td>\n",
       "      <td>0.060</td>\n",
       "    </tr>\n",
       "    <tr>\n",
       "      <th>12</th>\n",
       "      <td>cityGradeIS_5급지</td>\n",
       "      <td>0.031</td>\n",
       "    </tr>\n",
       "    <tr>\n",
       "      <th>7</th>\n",
       "      <td>residence_HOUSE</td>\n",
       "      <td>0.030</td>\n",
       "    </tr>\n",
       "    <tr>\n",
       "      <th>8</th>\n",
       "      <td>residence_OFFICETEL</td>\n",
       "      <td>0.028</td>\n",
       "    </tr>\n",
       "    <tr>\n",
       "      <th>3</th>\n",
       "      <td>age_50대</td>\n",
       "      <td>0.013</td>\n",
       "    </tr>\n",
       "    <tr>\n",
       "      <th>4</th>\n",
       "      <td>age_60대 이상</td>\n",
       "      <td>0.002</td>\n",
       "    </tr>\n",
       "    <tr>\n",
       "      <th>6</th>\n",
       "      <td>residence_ETC.</td>\n",
       "      <td>0.000</td>\n",
       "    </tr>\n",
       "    <tr>\n",
       "      <th>13</th>\n",
       "      <td>cityGradeIS_6급지</td>\n",
       "      <td>0.000</td>\n",
       "    </tr>\n",
       "  </tbody>\n",
       "</table>\n",
       "</div>"
      ],
      "text/plain": [
       "                Feature  Importance\n",
       "9       cityGradeIS_2급지       0.244\n",
       "0           gender_MALE       0.231\n",
       "5        marital_SINGLE       0.115\n",
       "10      cityGradeIS_3급지       0.094\n",
       "2               age_40대       0.092\n",
       "11      cityGradeIS_4급지       0.061\n",
       "1               age_30대       0.060\n",
       "12      cityGradeIS_5급지       0.031\n",
       "7       residence_HOUSE       0.030\n",
       "8   residence_OFFICETEL       0.028\n",
       "3               age_50대       0.013\n",
       "4            age_60대 이상       0.002\n",
       "6        residence_ETC.       0.000\n",
       "13      cityGradeIS_6급지       0.000"
      ]
     },
     "execution_count": 66,
     "metadata": {},
     "output_type": "execute_result"
    }
   ],
   "source": [
    "df_importance = pd.DataFrame()\n",
    "v_feature_name = df_train_s.columns\n",
    "df_importance['Feature'] = v_feature_name\n",
    "df_importance['Importance'] = dt_final.feature_importances_ # TREECLASS.feature_importances_\n",
    "\n",
    "df_importance.sort_values('Importance', ascending=False, inplace=True)\n",
    "df_importance.round(3)"
   ]
  },
  {
   "cell_type": "code",
   "execution_count": 67,
   "metadata": {
    "scrolled": true
   },
   "outputs": [
    {
     "data": {
      "text/plain": [
       "Text(0, 0.5, '변수')"
      ]
     },
     "execution_count": 67,
     "metadata": {},
     "output_type": "execute_result"
    },
    {
     "data": {
      "image/png": "[encoded data removed]",
      "text/plain": [
       "<Figure size 720x1440 with 1 Axes>"
      ]
     },
     "metadata": {
      "needs_background": "light"
     },
     "output_type": "display_data"
    }
   ],
   "source": [
    "df_importance.sort_values('Importance', ascending=True, inplace=True)\n",
    "coordinates=range(len(df_importance))\n",
    "plt.figure(figsize=(10,20))\n",
    "\n",
    "plt.barh(y=coordinates, width=df_importance['Importance'])\n",
    "plt.yticks(coordinates, df_importance['Feature'])\n",
    "plt.xlabel('변수 중요도')\n",
    "plt.ylabel('변수')"
   ]
  },
  {
   "cell_type": "markdown",
   "metadata": {},
   "source": [
    "# 나무 그림"
   ]
  },
  {
   "cell_type": "code",
   "execution_count": 68,
   "metadata": {},
   "outputs": [
    {
     "data": {
      "text/plain": [
       "'Source.gv.pdf'"
      ]
     },
     "execution_count": 68,
     "metadata": {},
     "output_type": "execute_result"
    }
   ],
   "source": [
    "export_graphviz(dt_final, out_file='tree_leaf.dot',\n",
    "               feature_names=v_feature_name, impurity=True, filled=True)\n",
    "with open('tree_leaf.dot') as f:\n",
    "    dot_graph = f.read()\n",
    "\n",
    "graphviz.Source(dot_graph).view()"
   ]
  },
  {
   "cell_type": "code",
   "execution_count": null,
   "metadata": {},
   "outputs": [],
   "source": []
  }
 ],
 "metadata": {
  "kernelspec": {
   "display_name": "Python 3",
   "language": "python",
   "name": "python3"
  },
  "language_info": {
   "codemirror_mode": {
    "name": "ipython",
    "version": 3
   },
   "file_extension": ".py",
   "mimetype": "text/x-python",
   "name": "python",
   "nbconvert_exporter": "python",
   "pygments_lexer": "ipython3",
   "version": "3.7.3"
  }
 },
 "nbformat": 4,
 "nbformat_minor": 2
}
