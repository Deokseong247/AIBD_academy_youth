{
 "cells": [
  {
   "cell_type": "code",
   "execution_count": 1,
   "metadata": {},
   "outputs": [],
   "source": [
    "import pandas as pd\n",
    "import numpy as np\n",
    "import seaborn as sns\n",
    "import matplotlib\n",
    "import matplotlib.pyplot as plt\n",
    "\n",
    "\n",
    "# K-modes\n",
    "import kmodes\n",
    "\n",
    "# 나무\n",
    "from sklearn.tree import export_graphviz\n",
    "import graphviz\n",
    "\n",
    "# 데이터 분할\n",
    "from sklearn.model_selection import train_test_split\n",
    "\n",
    "# 예측 모형: Logistic regression\n",
    "from sklearn.tree import DecisionTreeClassifier as DTC\n",
    "from sklearn.ensemble import RandomForestClassifier as RFC\n",
    "from sklearn.ensemble import GradientBoostingClassifier as GBC\n",
    "\n",
    "from sklearn.model_selection import GridSearchCV\n",
    "\n",
    "# 평가 함수\n",
    "from sklearn.metrics import accuracy_score\n",
    "from sklearn.metrics import confusion_matrix\n",
    "from sklearn.metrics import roc_curve, auc, f1_score\n",
    "\n",
    "\n",
    "# https://pypi.org/project/kmodes/\n",
    "from kmodes.kmodes import KModes\n",
    "\n",
    "%matplotlib inline\n",
    "matplotlib.rc('font', family = 'NanumBarunGothic')\n",
    "\n",
    "path = '/home/pirl/BDAI-정덕성/Group/Python/'\n",
    "list_files = ['user.csv', 'address.csv', 'contract.csv']"
   ]
  },
  {
   "cell_type": "code",
   "execution_count": 2,
   "metadata": {},
   "outputs": [],
   "source": [
    "df = pd.read_csv(path + 'merged_final.csv', engine='python', encoding = 'euc-kr')"
   ]
  },
  {
   "cell_type": "code",
   "execution_count": 3,
   "metadata": {},
   "outputs": [
    {
     "name": "stdout",
     "output_type": "stream",
     "text": [
      "<class 'pandas.core.frame.DataFrame'>\n",
      "RangeIndex: 49645 entries, 0 to 49644\n",
      "Data columns (total 23 columns):\n",
      "gender              49645 non-null object\n",
      "customerType        49645 non-null object\n",
      "age                 49645 non-null object\n",
      "marital             49645 non-null object\n",
      "residence           49645 non-null object\n",
      "channel             49645 non-null object\n",
      "credit              49645 non-null object\n",
      "payment             49645 non-null object\n",
      "paymentCO           49645 non-null object\n",
      "province            49645 non-null object\n",
      "provinceIS          49645 non-null object\n",
      "cityGrade           49645 non-null object\n",
      "channelType         49645 non-null object\n",
      "contractExtended    49645 non-null object\n",
      "contractType        49645 non-null object\n",
      "contractType_1      49645 non-null object\n",
      "contractType_2      49645 non-null object\n",
      "cityGradeIS         49645 non-null object\n",
      "Termination_str     49645 non-null object\n",
      "maxDay_str          49645 non-null object\n",
      "maxGift_str         49645 non-null object\n",
      "Termination_rate    49645 non-null object\n",
      "overDue_str         49645 non-null object\n",
      "dtypes: object(23)\n",
      "memory usage: 8.7+ MB\n"
     ]
    }
   ],
   "source": [
    "df.info()"
   ]
  },
  {
   "cell_type": "markdown",
   "metadata": {},
   "source": [
    "## X & Y 분리: cityGradeIS 기준"
   ]
  },
  {
   "cell_type": "code",
   "execution_count": 4,
   "metadata": {},
   "outputs": [
    {
     "data": {
      "text/plain": [
       "array(['중도 해약 X'], dtype=object)"
      ]
     },
     "execution_count": 4,
     "metadata": {},
     "output_type": "execute_result"
    }
   ],
   "source": [
    "df_tree = df.query('Termination_str == \"중도 해약 X\"')\n",
    "df_tree = df_tree.query('customerType == \"PERSONAL\"')\n",
    "df_tree['Termination_str'].unique()"
   ]
  },
  {
   "cell_type": "code",
   "execution_count": 6,
   "metadata": {},
   "outputs": [
    {
     "name": "stdout",
     "output_type": "stream",
     "text": [
      "<class 'pandas.core.frame.DataFrame'>\n",
      "Int64Index: 41529 entries, 0 to 49644\n",
      "Data columns (total 23 columns):\n",
      "gender              41529 non-null object\n",
      "customerType        41529 non-null object\n",
      "age                 41529 non-null object\n",
      "marital             41529 non-null object\n",
      "residence           41529 non-null object\n",
      "channel             41529 non-null object\n",
      "credit              41529 non-null object\n",
      "payment             41529 non-null object\n",
      "paymentCO           41529 non-null object\n",
      "province            41529 non-null object\n",
      "provinceIS          41529 non-null object\n",
      "cityGrade           41529 non-null object\n",
      "channelType         41529 non-null object\n",
      "contractExtended    41529 non-null object\n",
      "contractType        41529 non-null object\n",
      "contractType_1      41529 non-null object\n",
      "contractType_2      41529 non-null object\n",
      "cityGradeIS         41529 non-null object\n",
      "Termination_str     41529 non-null object\n",
      "maxDay_str          41529 non-null object\n",
      "maxGift_str         41529 non-null object\n",
      "Termination_rate    41529 non-null object\n",
      "overDue_str         41529 non-null object\n",
      "dtypes: object(23)\n",
      "memory usage: 7.6+ MB\n"
     ]
    }
   ],
   "source": [
    "df_tree.info()"
   ]
  },
  {
   "cell_type": "markdown",
   "metadata": {},
   "source": [
    "## 품종 3종"
   ]
  },
  {
   "cell_type": "code",
   "execution_count": 5,
   "metadata": {},
   "outputs": [],
   "source": [
    "df_tree_short = df_tree.drop(['customerType', # 고객/법인 따로 분석\n",
    "                              'channel', 'channelType',  # channelType 사용\n",
    "                              'credit', 'payment', 'paymentCO', # 경향성 없음\n",
    "                              'province', 'provinceIS',\n",
    "                              'cityGrade', # 실거주지 정보 제외\n",
    "                              'contractExtended', # 목표변수 파생변수 제외\n",
    "                              'contractType_1', 'contractType_2', # 6개 범주 사용\n",
    "                              'Termination_str', \n",
    "                              'maxDay_str', 'maxGift_str', 'Termination_rate', 'overDue_str'],\n",
    "                             axis=1) # 경향성 없음             \n",
    "                                  \n",
    "# X, Y 분리 & Dummy 변수\n",
    "df_tree_y = df_tree[['contractType']]"
   ]
  },
  {
   "cell_type": "code",
   "execution_count": 6,
   "metadata": {},
   "outputs": [
    {
     "data": {
      "text/plain": [
       "array(['MMQ', 'EIQ', 'HIQ', 'MIQ', 'HMQ', 'EMQ'], dtype=object)"
      ]
     },
     "execution_count": 6,
     "metadata": {},
     "output_type": "execute_result"
    }
   ],
   "source": [
    "df_tree_y['contractType'].unique()"
   ]
  },
  {
   "cell_type": "code",
   "execution_count": 7,
   "metadata": {
    "scrolled": true
   },
   "outputs": [
    {
     "name": "stdout",
     "output_type": "stream",
     "text": [
      "<class 'pandas.core.frame.DataFrame'>\n",
      "Int64Index: 41529 entries, 0 to 49644\n",
      "Data columns (total 14 columns):\n",
      "gender_MALE            41529 non-null uint8\n",
      "age_30대                41529 non-null uint8\n",
      "age_40대                41529 non-null uint8\n",
      "age_50대                41529 non-null uint8\n",
      "age_60대 이상             41529 non-null uint8\n",
      "marital_SINGLE         41529 non-null uint8\n",
      "residence_ETC.         41529 non-null uint8\n",
      "residence_HOUSE        41529 non-null uint8\n",
      "residence_OFFICETEL    41529 non-null uint8\n",
      "cityGradeIS_2급지        41529 non-null uint8\n",
      "cityGradeIS_3급지        41529 non-null uint8\n",
      "cityGradeIS_4급지        41529 non-null uint8\n",
      "cityGradeIS_5급지        41529 non-null uint8\n",
      "cityGradeIS_6급지        41529 non-null uint8\n",
      "dtypes: uint8(14)\n",
      "memory usage: 892.2 KB\n"
     ]
    }
   ],
   "source": [
    "df_tree_s = pd.get_dummies(df_tree_short.drop('contractType', axis=1), drop_first = True)\n",
    "df_tree_s.info()"
   ]
  },
  {
   "cell_type": "code",
   "execution_count": 8,
   "metadata": {},
   "outputs": [
    {
     "name": "stdout",
     "output_type": "stream",
     "text": [
      "train data X size:(29070, 14)\n",
      "train data Y size:(29070, 1)\n",
      "test data X size:(12459, 14)\n",
      "test data Y size:(12459, 1)\n"
     ]
    }
   ],
   "source": [
    "# 나무 데이터\n",
    "df_train_s, df_test_s, df_train_y, df_test_y = train_test_split(df_tree_s, df_tree_y, test_size = 0.3)\n",
    "\n",
    "print('train data X size:{}'.format(df_train_s.shape))\n",
    "print('train data Y size:{}'.format(df_train_y.shape))\n",
    "print('test data X size:{}'.format(df_test_s.shape))\n",
    "print('test data Y size:{}'.format(df_test_y.shape))\n"
   ]
  },
  {
   "cell_type": "markdown",
   "metadata": {},
   "source": [
    "# 랜덤포레스트"
   ]
  },
  {
   "cell_type": "code",
   "execution_count": 9,
   "metadata": {},
   "outputs": [
    {
     "name": "stderr",
     "output_type": "stream",
     "text": [
      "/home/pirl/anaconda3/lib/python3.7/site-packages/sklearn/ensemble/forest.py:245: FutureWarning: The default value of n_estimators will change from 10 in version 0.20 to 100 in 0.22.\n",
      "  \"10 in version 0.20 to 100 in 0.22.\", FutureWarning)\n",
      "/home/pirl/anaconda3/lib/python3.7/site-packages/ipykernel_launcher.py:2: DataConversionWarning: A column-vector y was passed when a 1d array was expected. Please change the shape of y to (n_samples,), for example using ravel().\n",
      "  \n"
     ]
    },
    {
     "data": {
      "text/plain": [
       "RandomForestClassifier(bootstrap=True, class_weight=None, criterion='gini',\n",
       "                       max_depth=None, max_features='auto', max_leaf_nodes=None,\n",
       "                       min_impurity_decrease=0.0, min_impurity_split=None,\n",
       "                       min_samples_leaf=1, min_samples_split=2,\n",
       "                       min_weight_fraction_leaf=0.0, n_estimators=10,\n",
       "                       n_jobs=None, oob_score=False, random_state=None,\n",
       "                       verbose=0, warm_start=False)"
      ]
     },
     "execution_count": 9,
     "metadata": {},
     "output_type": "execute_result"
    }
   ],
   "source": [
    "rf_default = RFC()\n",
    "rf_default.fit(df_train_s, df_train_y)"
   ]
  },
  {
   "cell_type": "code",
   "execution_count": 10,
   "metadata": {},
   "outputs": [
    {
     "name": "stdout",
     "output_type": "stream",
     "text": [
      "F1 on Training: 0.621\n",
      "\n",
      "F1 on Test: 0.610\n",
      "\n"
     ]
    }
   ],
   "source": [
    "y_train_pred = rf_default.predict(df_train_s)\n",
    "y_test_pred = rf_default.predict(df_test_s)\n",
    "\n",
    "# # AUC\n",
    "# false_positive_rate, true_positive_rate, thresholds = roc_curve(df_train_y, y_pred)\n",
    "# roc_auc_train = auc(false_positive_rate, true_positive_rate)\n",
    "\n",
    "# false_positive_rate, true_positive_rate, thresholds = roc_curve(df_test_y, y_pred)\n",
    "# roc_auc_test = auc(false_positive_rate, true_positive_rate)\n",
    "\n",
    "# f1 score\n",
    "f1_train = f1_score(df_train_y, y_train_pred, average='micro')\n",
    "f1_test = f1_score(df_test_y, y_test_pred, average='micro')\n",
    "\n",
    "\n",
    "# print('Accuracy on Training: {0:.3f}\\n'.format(rf_default.score(df_train_s, df_train_y)))\n",
    "# print('Accuracy on Test: {0:.3f}\\n'.format(rf_default.score(df_test_s, df_test_y)))\n",
    "\n",
    "# # print('AUC on Training: {0:.3f}\\n'.format(roc_auc_train))\n",
    "# # print('AUC on Test: {0:.3f}\\n'.format(roc_auc_test))\n",
    "print('F1 on Training: {0:.3f}\\n'.format(f1_train))\n",
    "print('F1 on Test: {0:.3f}\\n'.format(f1_test))"
   ]
  },
  {
   "cell_type": "markdown",
   "metadata": {},
   "source": [
    "### Parameter"
   ]
  },
  {
   "cell_type": "code",
   "execution_count": 11,
   "metadata": {},
   "outputs": [],
   "source": [
    "params = {'max_depth': None,\n",
    "          'n_estimators': None,\n",
    "          'max_leaf_nodes': None,\n",
    "          'min_samples_leaf': None,\n",
    "          'min_samples_split': None,\n",
    "          'max_features': None}"
   ]
  },
  {
   "cell_type": "markdown",
   "metadata": {},
   "source": [
    "### 숲의 나무 수"
   ]
  },
  {
   "cell_type": "code",
   "execution_count": 12,
   "metadata": {
    "scrolled": true
   },
   "outputs": [
    {
     "name": "stderr",
     "output_type": "stream",
     "text": [
      "/home/pirl/anaconda3/lib/python3.7/site-packages/ipykernel_launcher.py:10: DataConversionWarning: A column-vector y was passed when a 1d array was expected. Please change the shape of y to (n_samples,), for example using ravel().\n",
      "  # Remove the CWD from sys.path while we load stuff.\n",
      "/home/pirl/anaconda3/lib/python3.7/site-packages/ipykernel_launcher.py:10: DataConversionWarning: A column-vector y was passed when a 1d array was expected. Please change the shape of y to (n_samples,), for example using ravel().\n",
      "  # Remove the CWD from sys.path while we load stuff.\n",
      "/home/pirl/anaconda3/lib/python3.7/site-packages/ipykernel_launcher.py:10: DataConversionWarning: A column-vector y was passed when a 1d array was expected. Please change the shape of y to (n_samples,), for example using ravel().\n",
      "  # Remove the CWD from sys.path while we load stuff.\n",
      "/home/pirl/anaconda3/lib/python3.7/site-packages/ipykernel_launcher.py:10: DataConversionWarning: A column-vector y was passed when a 1d array was expected. Please change the shape of y to (n_samples,), for example using ravel().\n",
      "  # Remove the CWD from sys.path while we load stuff.\n",
      "/home/pirl/anaconda3/lib/python3.7/site-packages/ipykernel_launcher.py:10: DataConversionWarning: A column-vector y was passed when a 1d array was expected. Please change the shape of y to (n_samples,), for example using ravel().\n",
      "  # Remove the CWD from sys.path while we load stuff.\n"
     ]
    },
    {
     "data": {
      "text/plain": [
       "<matplotlib.legend.Legend at 0x7f4afa12cc50>"
      ]
     },
     "execution_count": 12,
     "metadata": {},
     "output_type": "execute_result"
    },
    {
     "data": {
      "image/png": "[encoded data removed]",
      "text/plain": [
       "<Figure size 432x288 with 1 Axes>"
      ]
     },
     "metadata": {
      "needs_background": "light"
     },
     "output_type": "display_data"
    }
   ],
   "source": [
    "# Train/Test Score 저장할 list\n",
    "train_accuracy = []; test_accuracy = []; train_f1 = []; test_f1 = []\n",
    "\n",
    "# ntree\n",
    "para_ntree = [10*ntree for ntree in range(11, 16)]\n",
    "\n",
    "\n",
    "for v_ntree in para_ntree:\n",
    "    rf = RFC(n_estimators = v_ntree)\n",
    "    rf.fit(df_train_s, df_train_y)\n",
    "    y_train_pred = rf.predict(df_train_s)\n",
    "    y_test_pred = rf.predict(df_test_s)\n",
    "    train_accuracy.append(rf.score(df_train_s, df_train_y))\n",
    "    test_accuracy.append(rf.score(df_test_s, df_test_y))\n",
    "    train_f1.append(f1_score(df_train_y, y_train_pred, average='micro'))\n",
    "    test_f1.append(f1_score(df_test_y, y_test_pred, average='micro'))\n",
    "    \n",
    "    \n",
    "df_score_ntree = pd.DataFrame({'N_Tree': para_ntree,\n",
    "                             'TrainScore': train_accuracy,\n",
    "                             'TestScore': test_accuracy,\n",
    "                             'TrainF1': train_f1,\n",
    "                             'TestF1': test_f1})\n",
    "\n",
    "plt.plot(para_ntree, train_accuracy, linestyle='-', label=\"Train Score\")\n",
    "plt.plot(para_ntree, test_accuracy, linestyle='--', label=\"Test Score\")\n",
    "plt.plot(para_ntree, train_f1, linestyle='-', label=\"Train F1\")\n",
    "plt.plot(para_ntree, test_f1, linestyle='--', label=\"Test F1\")\n",
    "plt.legend()"
   ]
  },
  {
   "cell_type": "code",
   "execution_count": 13,
   "metadata": {},
   "outputs": [
    {
     "data": {
      "text/html": [
       "<div>\n",
       "<style scoped>\n",
       "    .dataframe tbody tr th:only-of-type {\n",
       "        vertical-align: middle;\n",
       "    }\n",
       "\n",
       "    .dataframe tbody tr th {\n",
       "        vertical-align: top;\n",
       "    }\n",
       "\n",
       "    .dataframe thead th {\n",
       "        text-align: right;\n",
       "    }\n",
       "</style>\n",
       "<table border=\"1\" class=\"dataframe\">\n",
       "  <thead>\n",
       "    <tr style=\"text-align: right;\">\n",
       "      <th></th>\n",
       "      <th>N_Tree</th>\n",
       "      <th>TrainScore</th>\n",
       "      <th>TestScore</th>\n",
       "      <th>TrainF1</th>\n",
       "      <th>TestF1</th>\n",
       "    </tr>\n",
       "  </thead>\n",
       "  <tbody>\n",
       "    <tr>\n",
       "      <th>0</th>\n",
       "      <td>110</td>\n",
       "      <td>0.621397</td>\n",
       "      <td>0.611124</td>\n",
       "      <td>0.621397</td>\n",
       "      <td>0.611124</td>\n",
       "    </tr>\n",
       "    <tr>\n",
       "      <th>3</th>\n",
       "      <td>140</td>\n",
       "      <td>0.621397</td>\n",
       "      <td>0.610884</td>\n",
       "      <td>0.621397</td>\n",
       "      <td>0.610884</td>\n",
       "    </tr>\n",
       "    <tr>\n",
       "      <th>2</th>\n",
       "      <td>130</td>\n",
       "      <td>0.621397</td>\n",
       "      <td>0.610563</td>\n",
       "      <td>0.621397</td>\n",
       "      <td>0.610563</td>\n",
       "    </tr>\n",
       "    <tr>\n",
       "      <th>4</th>\n",
       "      <td>150</td>\n",
       "      <td>0.621362</td>\n",
       "      <td>0.610161</td>\n",
       "      <td>0.621362</td>\n",
       "      <td>0.610161</td>\n",
       "    </tr>\n",
       "    <tr>\n",
       "      <th>1</th>\n",
       "      <td>120</td>\n",
       "      <td>0.621362</td>\n",
       "      <td>0.609439</td>\n",
       "      <td>0.621362</td>\n",
       "      <td>0.609439</td>\n",
       "    </tr>\n",
       "  </tbody>\n",
       "</table>\n",
       "</div>"
      ],
      "text/plain": [
       "   N_Tree  TrainScore  TestScore   TrainF1    TestF1\n",
       "0     110    0.621397   0.611124  0.621397  0.611124\n",
       "3     140    0.621397   0.610884  0.621397  0.610884\n",
       "2     130    0.621397   0.610563  0.621397  0.610563\n",
       "4     150    0.621362   0.610161  0.621362  0.610161\n",
       "1     120    0.621362   0.609439  0.621362  0.609439"
      ]
     },
     "execution_count": 13,
     "metadata": {},
     "output_type": "execute_result"
    }
   ],
   "source": [
    "df_score_ntree.sort_values('TestF1', ascending = False)"
   ]
  },
  {
   "cell_type": "code",
   "execution_count": 14,
   "metadata": {},
   "outputs": [],
   "source": [
    "params['n_estimators'] = 110"
   ]
  },
  {
   "cell_type": "markdown",
   "metadata": {},
   "source": [
    "### 나무의 최대 깊이"
   ]
  },
  {
   "cell_type": "code",
   "execution_count": 15,
   "metadata": {},
   "outputs": [
    {
     "name": "stderr",
     "output_type": "stream",
     "text": [
      "/home/pirl/anaconda3/lib/python3.7/site-packages/ipykernel_launcher.py:11: DataConversionWarning: A column-vector y was passed when a 1d array was expected. Please change the shape of y to (n_samples,), for example using ravel().\n",
      "  # This is added back by InteractiveShellApp.init_path()\n",
      "/home/pirl/anaconda3/lib/python3.7/site-packages/ipykernel_launcher.py:11: DataConversionWarning: A column-vector y was passed when a 1d array was expected. Please change the shape of y to (n_samples,), for example using ravel().\n",
      "  # This is added back by InteractiveShellApp.init_path()\n",
      "/home/pirl/anaconda3/lib/python3.7/site-packages/ipykernel_launcher.py:11: DataConversionWarning: A column-vector y was passed when a 1d array was expected. Please change the shape of y to (n_samples,), for example using ravel().\n",
      "  # This is added back by InteractiveShellApp.init_path()\n",
      "/home/pirl/anaconda3/lib/python3.7/site-packages/ipykernel_launcher.py:11: DataConversionWarning: A column-vector y was passed when a 1d array was expected. Please change the shape of y to (n_samples,), for example using ravel().\n",
      "  # This is added back by InteractiveShellApp.init_path()\n",
      "/home/pirl/anaconda3/lib/python3.7/site-packages/ipykernel_launcher.py:11: DataConversionWarning: A column-vector y was passed when a 1d array was expected. Please change the shape of y to (n_samples,), for example using ravel().\n",
      "  # This is added back by InteractiveShellApp.init_path()\n",
      "/home/pirl/anaconda3/lib/python3.7/site-packages/ipykernel_launcher.py:11: DataConversionWarning: A column-vector y was passed when a 1d array was expected. Please change the shape of y to (n_samples,), for example using ravel().\n",
      "  # This is added back by InteractiveShellApp.init_path()\n",
      "/home/pirl/anaconda3/lib/python3.7/site-packages/ipykernel_launcher.py:11: DataConversionWarning: A column-vector y was passed when a 1d array was expected. Please change the shape of y to (n_samples,), for example using ravel().\n",
      "  # This is added back by InteractiveShellApp.init_path()\n",
      "/home/pirl/anaconda3/lib/python3.7/site-packages/ipykernel_launcher.py:11: DataConversionWarning: A column-vector y was passed when a 1d array was expected. Please change the shape of y to (n_samples,), for example using ravel().\n",
      "  # This is added back by InteractiveShellApp.init_path()\n",
      "/home/pirl/anaconda3/lib/python3.7/site-packages/ipykernel_launcher.py:11: DataConversionWarning: A column-vector y was passed when a 1d array was expected. Please change the shape of y to (n_samples,), for example using ravel().\n",
      "  # This is added back by InteractiveShellApp.init_path()\n",
      "/home/pirl/anaconda3/lib/python3.7/site-packages/ipykernel_launcher.py:11: DataConversionWarning: A column-vector y was passed when a 1d array was expected. Please change the shape of y to (n_samples,), for example using ravel().\n",
      "  # This is added back by InteractiveShellApp.init_path()\n",
      "/home/pirl/anaconda3/lib/python3.7/site-packages/ipykernel_launcher.py:11: DataConversionWarning: A column-vector y was passed when a 1d array was expected. Please change the shape of y to (n_samples,), for example using ravel().\n",
      "  # This is added back by InteractiveShellApp.init_path()\n"
     ]
    },
    {
     "data": {
      "text/plain": [
       "<matplotlib.legend.Legend at 0x7f4af957b588>"
      ]
     },
     "execution_count": 15,
     "metadata": {},
     "output_type": "execute_result"
    },
    {
     "data": {
      "image/png": "[encoded data removed]",
      "text/plain": [
       "<Figure size 432x288 with 1 Axes>"
      ]
     },
     "metadata": {
      "needs_background": "light"
     },
     "output_type": "display_data"
    }
   ],
   "source": [
    "# Train/Test Score 저장할 list\n",
    "train_accuracy = []; test_accuracy = []; train_f1 = []; test_f1 = []\n",
    "\n",
    "# depth\n",
    "para_depth = [depth for depth in range(10, 21)]\n",
    "\n",
    "\n",
    "for v_depth in para_depth:\n",
    "    rf = RFC(n_estimators = params['n_estimators'],\n",
    "             max_depth = v_depth)\n",
    "    rf.fit(df_train_s, df_train_y)\n",
    "    y_train_pred = rf.predict(df_train_s)\n",
    "    y_test_pred = rf.predict(df_test_s)\n",
    "    train_accuracy.append(rf.score(df_train_s, df_train_y))\n",
    "    test_accuracy.append(rf.score(df_test_s, df_test_y))\n",
    "    train_f1.append(f1_score(df_train_y, y_train_pred, average='micro'))\n",
    "    test_f1.append(f1_score(df_test_y, y_test_pred, average='micro'))\n",
    "    \n",
    "    \n",
    "df_score_depth = pd.DataFrame({'N_Tree': para_depth,\n",
    "                             'TrainScore': train_accuracy,\n",
    "                             'TestScore': test_accuracy,\n",
    "                             'TrainF1': train_f1,\n",
    "                             'TestF1': test_f1})\n",
    "\n",
    "plt.plot(para_depth, train_accuracy, linestyle='-', label=\"Train Score\")\n",
    "plt.plot(para_depth, test_accuracy, linestyle='--', label=\"Test Score\")\n",
    "plt.plot(para_depth, train_f1, linestyle='-', label=\"Train F1\")\n",
    "plt.plot(para_depth, test_f1, linestyle='--', label=\"Test F1\")\n",
    "plt.legend()"
   ]
  },
  {
   "cell_type": "code",
   "execution_count": 17,
   "metadata": {},
   "outputs": [
    {
     "data": {
      "text/html": [
       "<div>\n",
       "<style scoped>\n",
       "    .dataframe tbody tr th:only-of-type {\n",
       "        vertical-align: middle;\n",
       "    }\n",
       "\n",
       "    .dataframe tbody tr th {\n",
       "        vertical-align: top;\n",
       "    }\n",
       "\n",
       "    .dataframe thead th {\n",
       "        text-align: right;\n",
       "    }\n",
       "</style>\n",
       "<table border=\"1\" class=\"dataframe\">\n",
       "  <thead>\n",
       "    <tr style=\"text-align: right;\">\n",
       "      <th></th>\n",
       "      <th>N_Tree</th>\n",
       "      <th>TrainScore</th>\n",
       "      <th>TestScore</th>\n",
       "      <th>TrainF1</th>\n",
       "      <th>TestF1</th>\n",
       "    </tr>\n",
       "  </thead>\n",
       "  <tbody>\n",
       "    <tr>\n",
       "      <th>6</th>\n",
       "      <td>16</td>\n",
       "      <td>0.621397</td>\n",
       "      <td>0.611124</td>\n",
       "      <td>0.621397</td>\n",
       "      <td>0.611124</td>\n",
       "    </tr>\n",
       "    <tr>\n",
       "      <th>2</th>\n",
       "      <td>12</td>\n",
       "      <td>0.621293</td>\n",
       "      <td>0.610884</td>\n",
       "      <td>0.621293</td>\n",
       "      <td>0.610884</td>\n",
       "    </tr>\n",
       "    <tr>\n",
       "      <th>7</th>\n",
       "      <td>17</td>\n",
       "      <td>0.621397</td>\n",
       "      <td>0.610803</td>\n",
       "      <td>0.621397</td>\n",
       "      <td>0.610803</td>\n",
       "    </tr>\n",
       "    <tr>\n",
       "      <th>8</th>\n",
       "      <td>18</td>\n",
       "      <td>0.621397</td>\n",
       "      <td>0.610643</td>\n",
       "      <td>0.621397</td>\n",
       "      <td>0.610643</td>\n",
       "    </tr>\n",
       "    <tr>\n",
       "      <th>9</th>\n",
       "      <td>19</td>\n",
       "      <td>0.621362</td>\n",
       "      <td>0.610643</td>\n",
       "      <td>0.621362</td>\n",
       "      <td>0.610643</td>\n",
       "    </tr>\n",
       "    <tr>\n",
       "      <th>3</th>\n",
       "      <td>13</td>\n",
       "      <td>0.621362</td>\n",
       "      <td>0.610482</td>\n",
       "      <td>0.621362</td>\n",
       "      <td>0.610482</td>\n",
       "    </tr>\n",
       "    <tr>\n",
       "      <th>4</th>\n",
       "      <td>14</td>\n",
       "      <td>0.621397</td>\n",
       "      <td>0.610482</td>\n",
       "      <td>0.621397</td>\n",
       "      <td>0.610482</td>\n",
       "    </tr>\n",
       "    <tr>\n",
       "      <th>5</th>\n",
       "      <td>15</td>\n",
       "      <td>0.621397</td>\n",
       "      <td>0.610402</td>\n",
       "      <td>0.621397</td>\n",
       "      <td>0.610402</td>\n",
       "    </tr>\n",
       "    <tr>\n",
       "      <th>1</th>\n",
       "      <td>11</td>\n",
       "      <td>0.619711</td>\n",
       "      <td>0.610322</td>\n",
       "      <td>0.619711</td>\n",
       "      <td>0.610322</td>\n",
       "    </tr>\n",
       "    <tr>\n",
       "      <th>10</th>\n",
       "      <td>20</td>\n",
       "      <td>0.621328</td>\n",
       "      <td>0.609519</td>\n",
       "      <td>0.621328</td>\n",
       "      <td>0.609519</td>\n",
       "    </tr>\n",
       "    <tr>\n",
       "      <th>0</th>\n",
       "      <td>10</td>\n",
       "      <td>0.616821</td>\n",
       "      <td>0.607432</td>\n",
       "      <td>0.616821</td>\n",
       "      <td>0.607432</td>\n",
       "    </tr>\n",
       "  </tbody>\n",
       "</table>\n",
       "</div>"
      ],
      "text/plain": [
       "    N_Tree  TrainScore  TestScore   TrainF1    TestF1\n",
       "6       16    0.621397   0.611124  0.621397  0.611124\n",
       "2       12    0.621293   0.610884  0.621293  0.610884\n",
       "7       17    0.621397   0.610803  0.621397  0.610803\n",
       "8       18    0.621397   0.610643  0.621397  0.610643\n",
       "9       19    0.621362   0.610643  0.621362  0.610643\n",
       "3       13    0.621362   0.610482  0.621362  0.610482\n",
       "4       14    0.621397   0.610482  0.621397  0.610482\n",
       "5       15    0.621397   0.610402  0.621397  0.610402\n",
       "1       11    0.619711   0.610322  0.619711  0.610322\n",
       "10      20    0.621328   0.609519  0.621328  0.609519\n",
       "0       10    0.616821   0.607432  0.616821  0.607432"
      ]
     },
     "execution_count": 17,
     "metadata": {},
     "output_type": "execute_result"
    }
   ],
   "source": [
    "df_score_depth.sort_values('TestF1', ascending = False)"
   ]
  },
  {
   "cell_type": "code",
   "execution_count": 18,
   "metadata": {},
   "outputs": [],
   "source": [
    "params['max_depth'] = 16"
   ]
  },
  {
   "cell_type": "markdown",
   "metadata": {},
   "source": [
    "### 최소 잎사귀 크기"
   ]
  },
  {
   "cell_type": "code",
   "execution_count": 19,
   "metadata": {},
   "outputs": [
    {
     "name": "stderr",
     "output_type": "stream",
     "text": [
      "/home/pirl/anaconda3/lib/python3.7/site-packages/ipykernel_launcher.py:12: DataConversionWarning: A column-vector y was passed when a 1d array was expected. Please change the shape of y to (n_samples,), for example using ravel().\n",
      "  if sys.path[0] == '':\n",
      "/home/pirl/anaconda3/lib/python3.7/site-packages/ipykernel_launcher.py:12: DataConversionWarning: A column-vector y was passed when a 1d array was expected. Please change the shape of y to (n_samples,), for example using ravel().\n",
      "  if sys.path[0] == '':\n",
      "/home/pirl/anaconda3/lib/python3.7/site-packages/ipykernel_launcher.py:12: DataConversionWarning: A column-vector y was passed when a 1d array was expected. Please change the shape of y to (n_samples,), for example using ravel().\n",
      "  if sys.path[0] == '':\n",
      "/home/pirl/anaconda3/lib/python3.7/site-packages/ipykernel_launcher.py:12: DataConversionWarning: A column-vector y was passed when a 1d array was expected. Please change the shape of y to (n_samples,), for example using ravel().\n",
      "  if sys.path[0] == '':\n",
      "/home/pirl/anaconda3/lib/python3.7/site-packages/ipykernel_launcher.py:12: DataConversionWarning: A column-vector y was passed when a 1d array was expected. Please change the shape of y to (n_samples,), for example using ravel().\n",
      "  if sys.path[0] == '':\n",
      "/home/pirl/anaconda3/lib/python3.7/site-packages/ipykernel_launcher.py:12: DataConversionWarning: A column-vector y was passed when a 1d array was expected. Please change the shape of y to (n_samples,), for example using ravel().\n",
      "  if sys.path[0] == '':\n",
      "/home/pirl/anaconda3/lib/python3.7/site-packages/ipykernel_launcher.py:12: DataConversionWarning: A column-vector y was passed when a 1d array was expected. Please change the shape of y to (n_samples,), for example using ravel().\n",
      "  if sys.path[0] == '':\n",
      "/home/pirl/anaconda3/lib/python3.7/site-packages/ipykernel_launcher.py:12: DataConversionWarning: A column-vector y was passed when a 1d array was expected. Please change the shape of y to (n_samples,), for example using ravel().\n",
      "  if sys.path[0] == '':\n",
      "/home/pirl/anaconda3/lib/python3.7/site-packages/ipykernel_launcher.py:12: DataConversionWarning: A column-vector y was passed when a 1d array was expected. Please change the shape of y to (n_samples,), for example using ravel().\n",
      "  if sys.path[0] == '':\n",
      "/home/pirl/anaconda3/lib/python3.7/site-packages/ipykernel_launcher.py:12: DataConversionWarning: A column-vector y was passed when a 1d array was expected. Please change the shape of y to (n_samples,), for example using ravel().\n",
      "  if sys.path[0] == '':\n",
      "/home/pirl/anaconda3/lib/python3.7/site-packages/ipykernel_launcher.py:12: DataConversionWarning: A column-vector y was passed when a 1d array was expected. Please change the shape of y to (n_samples,), for example using ravel().\n",
      "  if sys.path[0] == '':\n",
      "/home/pirl/anaconda3/lib/python3.7/site-packages/ipykernel_launcher.py:12: DataConversionWarning: A column-vector y was passed when a 1d array was expected. Please change the shape of y to (n_samples,), for example using ravel().\n",
      "  if sys.path[0] == '':\n",
      "/home/pirl/anaconda3/lib/python3.7/site-packages/ipykernel_launcher.py:12: DataConversionWarning: A column-vector y was passed when a 1d array was expected. Please change the shape of y to (n_samples,), for example using ravel().\n",
      "  if sys.path[0] == '':\n",
      "/home/pirl/anaconda3/lib/python3.7/site-packages/ipykernel_launcher.py:12: DataConversionWarning: A column-vector y was passed when a 1d array was expected. Please change the shape of y to (n_samples,), for example using ravel().\n",
      "  if sys.path[0] == '':\n",
      "/home/pirl/anaconda3/lib/python3.7/site-packages/ipykernel_launcher.py:12: DataConversionWarning: A column-vector y was passed when a 1d array was expected. Please change the shape of y to (n_samples,), for example using ravel().\n",
      "  if sys.path[0] == '':\n",
      "/home/pirl/anaconda3/lib/python3.7/site-packages/ipykernel_launcher.py:12: DataConversionWarning: A column-vector y was passed when a 1d array was expected. Please change the shape of y to (n_samples,), for example using ravel().\n",
      "  if sys.path[0] == '':\n",
      "/home/pirl/anaconda3/lib/python3.7/site-packages/ipykernel_launcher.py:12: DataConversionWarning: A column-vector y was passed when a 1d array was expected. Please change the shape of y to (n_samples,), for example using ravel().\n",
      "  if sys.path[0] == '':\n",
      "/home/pirl/anaconda3/lib/python3.7/site-packages/ipykernel_launcher.py:12: DataConversionWarning: A column-vector y was passed when a 1d array was expected. Please change the shape of y to (n_samples,), for example using ravel().\n",
      "  if sys.path[0] == '':\n",
      "/home/pirl/anaconda3/lib/python3.7/site-packages/ipykernel_launcher.py:12: DataConversionWarning: A column-vector y was passed when a 1d array was expected. Please change the shape of y to (n_samples,), for example using ravel().\n",
      "  if sys.path[0] == '':\n",
      "/home/pirl/anaconda3/lib/python3.7/site-packages/ipykernel_launcher.py:12: DataConversionWarning: A column-vector y was passed when a 1d array was expected. Please change the shape of y to (n_samples,), for example using ravel().\n",
      "  if sys.path[0] == '':\n",
      "/home/pirl/anaconda3/lib/python3.7/site-packages/ipykernel_launcher.py:12: DataConversionWarning: A column-vector y was passed when a 1d array was expected. Please change the shape of y to (n_samples,), for example using ravel().\n",
      "  if sys.path[0] == '':\n"
     ]
    },
    {
     "data": {
      "text/plain": [
       "<matplotlib.legend.Legend at 0x7f4af9503c88>"
      ]
     },
     "execution_count": 19,
     "metadata": {},
     "output_type": "execute_result"
    },
    {
     "data": {
      "image/png": "[encoded data removed]",
      "text/plain": [
       "<Figure size 432x288 with 1 Axes>"
      ]
     },
     "metadata": {
      "needs_background": "light"
     },
     "output_type": "display_data"
    }
   ],
   "source": [
    "# Train/Test Score 저장할 list\n",
    "train_accuracy = []; test_accuracy = []; train_f1 = []; test_f1 = []\n",
    "\n",
    "# split\n",
    "para_split = [split*10 for split in range(10, 31)]\n",
    "\n",
    "\n",
    "for v_split in para_split:\n",
    "    rf = RFC(n_estimators = params['n_estimators'],\n",
    "             max_depth = params['max_depth'],\n",
    "             min_samples_split = v_split)\n",
    "    rf.fit(df_train_s, df_train_y)\n",
    "    y_train_pred = rf.predict(df_train_s)\n",
    "    y_test_pred = rf.predict(df_test_s)\n",
    "    train_accuracy.append(rf.score(df_train_s, df_train_y))\n",
    "    test_accuracy.append(rf.score(df_test_s, df_test_y))\n",
    "    train_f1.append(f1_score(df_train_y, y_train_pred, average='micro'))\n",
    "    test_f1.append(f1_score(df_test_y, y_test_pred, average='micro'))\n",
    "    \n",
    "    \n",
    "df_score_split = pd.DataFrame({'split': para_split,\n",
    "                             'TrainScore': train_accuracy,\n",
    "                             'TestScore': test_accuracy,\n",
    "                             'TrainF1': train_f1,\n",
    "                             'TestF1': test_f1})\n",
    "\n",
    "plt.plot(para_split, train_accuracy, linestyle='-', label=\"Train Score\")\n",
    "plt.plot(para_split, test_accuracy, linestyle='--', label=\"Test Score\")\n",
    "plt.plot(para_split, train_f1, linestyle='-', label=\"Train F1\")\n",
    "plt.plot(para_split, test_f1, linestyle='--', label=\"Test F1\")\n",
    "plt.legend()"
   ]
  },
  {
   "cell_type": "code",
   "execution_count": 20,
   "metadata": {},
   "outputs": [
    {
     "data": {
      "text/html": [
       "<div>\n",
       "<style scoped>\n",
       "    .dataframe tbody tr th:only-of-type {\n",
       "        vertical-align: middle;\n",
       "    }\n",
       "\n",
       "    .dataframe tbody tr th {\n",
       "        vertical-align: top;\n",
       "    }\n",
       "\n",
       "    .dataframe thead th {\n",
       "        text-align: right;\n",
       "    }\n",
       "</style>\n",
       "<table border=\"1\" class=\"dataframe\">\n",
       "  <thead>\n",
       "    <tr style=\"text-align: right;\">\n",
       "      <th></th>\n",
       "      <th>split</th>\n",
       "      <th>TrainScore</th>\n",
       "      <th>TestScore</th>\n",
       "      <th>TrainF1</th>\n",
       "      <th>TestF1</th>\n",
       "    </tr>\n",
       "  </thead>\n",
       "  <tbody>\n",
       "    <tr>\n",
       "      <th>0</th>\n",
       "      <td>100</td>\n",
       "      <td>0.620399</td>\n",
       "      <td>0.612569</td>\n",
       "      <td>0.620399</td>\n",
       "      <td>0.612569</td>\n",
       "    </tr>\n",
       "    <tr>\n",
       "      <th>3</th>\n",
       "      <td>130</td>\n",
       "      <td>0.618197</td>\n",
       "      <td>0.612248</td>\n",
       "      <td>0.618197</td>\n",
       "      <td>0.612248</td>\n",
       "    </tr>\n",
       "    <tr>\n",
       "      <th>2</th>\n",
       "      <td>120</td>\n",
       "      <td>0.618438</td>\n",
       "      <td>0.612168</td>\n",
       "      <td>0.618438</td>\n",
       "      <td>0.612168</td>\n",
       "    </tr>\n",
       "    <tr>\n",
       "      <th>6</th>\n",
       "      <td>160</td>\n",
       "      <td>0.616718</td>\n",
       "      <td>0.611285</td>\n",
       "      <td>0.616718</td>\n",
       "      <td>0.611285</td>\n",
       "    </tr>\n",
       "    <tr>\n",
       "      <th>4</th>\n",
       "      <td>140</td>\n",
       "      <td>0.616959</td>\n",
       "      <td>0.611205</td>\n",
       "      <td>0.616959</td>\n",
       "      <td>0.611205</td>\n",
       "    </tr>\n",
       "    <tr>\n",
       "      <th>1</th>\n",
       "      <td>110</td>\n",
       "      <td>0.618954</td>\n",
       "      <td>0.611205</td>\n",
       "      <td>0.618954</td>\n",
       "      <td>0.611205</td>\n",
       "    </tr>\n",
       "    <tr>\n",
       "      <th>8</th>\n",
       "      <td>180</td>\n",
       "      <td>0.615445</td>\n",
       "      <td>0.610081</td>\n",
       "      <td>0.615445</td>\n",
       "      <td>0.610081</td>\n",
       "    </tr>\n",
       "    <tr>\n",
       "      <th>5</th>\n",
       "      <td>150</td>\n",
       "      <td>0.616684</td>\n",
       "      <td>0.610001</td>\n",
       "      <td>0.616684</td>\n",
       "      <td>0.610001</td>\n",
       "    </tr>\n",
       "    <tr>\n",
       "      <th>7</th>\n",
       "      <td>170</td>\n",
       "      <td>0.614861</td>\n",
       "      <td>0.610001</td>\n",
       "      <td>0.614861</td>\n",
       "      <td>0.610001</td>\n",
       "    </tr>\n",
       "    <tr>\n",
       "      <th>9</th>\n",
       "      <td>190</td>\n",
       "      <td>0.615377</td>\n",
       "      <td>0.609519</td>\n",
       "      <td>0.615377</td>\n",
       "      <td>0.609519</td>\n",
       "    </tr>\n",
       "    <tr>\n",
       "      <th>13</th>\n",
       "      <td>230</td>\n",
       "      <td>0.613175</td>\n",
       "      <td>0.609278</td>\n",
       "      <td>0.613175</td>\n",
       "      <td>0.609278</td>\n",
       "    </tr>\n",
       "    <tr>\n",
       "      <th>10</th>\n",
       "      <td>200</td>\n",
       "      <td>0.614173</td>\n",
       "      <td>0.609278</td>\n",
       "      <td>0.614173</td>\n",
       "      <td>0.609278</td>\n",
       "    </tr>\n",
       "    <tr>\n",
       "      <th>14</th>\n",
       "      <td>240</td>\n",
       "      <td>0.613519</td>\n",
       "      <td>0.609118</td>\n",
       "      <td>0.613519</td>\n",
       "      <td>0.609118</td>\n",
       "    </tr>\n",
       "    <tr>\n",
       "      <th>12</th>\n",
       "      <td>220</td>\n",
       "      <td>0.614723</td>\n",
       "      <td>0.608877</td>\n",
       "      <td>0.614723</td>\n",
       "      <td>0.608877</td>\n",
       "    </tr>\n",
       "    <tr>\n",
       "      <th>11</th>\n",
       "      <td>210</td>\n",
       "      <td>0.613553</td>\n",
       "      <td>0.608235</td>\n",
       "      <td>0.613553</td>\n",
       "      <td>0.608235</td>\n",
       "    </tr>\n",
       "    <tr>\n",
       "      <th>19</th>\n",
       "      <td>290</td>\n",
       "      <td>0.608875</td>\n",
       "      <td>0.608235</td>\n",
       "      <td>0.608875</td>\n",
       "      <td>0.608235</td>\n",
       "    </tr>\n",
       "    <tr>\n",
       "      <th>17</th>\n",
       "      <td>270</td>\n",
       "      <td>0.610870</td>\n",
       "      <td>0.607994</td>\n",
       "      <td>0.610870</td>\n",
       "      <td>0.607994</td>\n",
       "    </tr>\n",
       "    <tr>\n",
       "      <th>15</th>\n",
       "      <td>250</td>\n",
       "      <td>0.610698</td>\n",
       "      <td>0.607673</td>\n",
       "      <td>0.610698</td>\n",
       "      <td>0.607673</td>\n",
       "    </tr>\n",
       "    <tr>\n",
       "      <th>16</th>\n",
       "      <td>260</td>\n",
       "      <td>0.608600</td>\n",
       "      <td>0.606790</td>\n",
       "      <td>0.608600</td>\n",
       "      <td>0.606790</td>\n",
       "    </tr>\n",
       "    <tr>\n",
       "      <th>18</th>\n",
       "      <td>280</td>\n",
       "      <td>0.608566</td>\n",
       "      <td>0.606630</td>\n",
       "      <td>0.608566</td>\n",
       "      <td>0.606630</td>\n",
       "    </tr>\n",
       "    <tr>\n",
       "      <th>20</th>\n",
       "      <td>300</td>\n",
       "      <td>0.607327</td>\n",
       "      <td>0.606148</td>\n",
       "      <td>0.607327</td>\n",
       "      <td>0.606148</td>\n",
       "    </tr>\n",
       "  </tbody>\n",
       "</table>\n",
       "</div>"
      ],
      "text/plain": [
       "    split  TrainScore  TestScore   TrainF1    TestF1\n",
       "0     100    0.620399   0.612569  0.620399  0.612569\n",
       "3     130    0.618197   0.612248  0.618197  0.612248\n",
       "2     120    0.618438   0.612168  0.618438  0.612168\n",
       "6     160    0.616718   0.611285  0.616718  0.611285\n",
       "4     140    0.616959   0.611205  0.616959  0.611205\n",
       "1     110    0.618954   0.611205  0.618954  0.611205\n",
       "8     180    0.615445   0.610081  0.615445  0.610081\n",
       "5     150    0.616684   0.610001  0.616684  0.610001\n",
       "7     170    0.614861   0.610001  0.614861  0.610001\n",
       "9     190    0.615377   0.609519  0.615377  0.609519\n",
       "13    230    0.613175   0.609278  0.613175  0.609278\n",
       "10    200    0.614173   0.609278  0.614173  0.609278\n",
       "14    240    0.613519   0.609118  0.613519  0.609118\n",
       "12    220    0.614723   0.608877  0.614723  0.608877\n",
       "11    210    0.613553   0.608235  0.613553  0.608235\n",
       "19    290    0.608875   0.608235  0.608875  0.608235\n",
       "17    270    0.610870   0.607994  0.610870  0.607994\n",
       "15    250    0.610698   0.607673  0.610698  0.607673\n",
       "16    260    0.608600   0.606790  0.608600  0.606790\n",
       "18    280    0.608566   0.606630  0.608566  0.606630\n",
       "20    300    0.607327   0.606148  0.607327  0.606148"
      ]
     },
     "execution_count": 20,
     "metadata": {},
     "output_type": "execute_result"
    }
   ],
   "source": [
    "df_score_split.sort_values('TestF1', ascending = False)"
   ]
  },
  {
   "cell_type": "code",
   "execution_count": 21,
   "metadata": {},
   "outputs": [],
   "source": [
    "params['min_samples_split'] = 100"
   ]
  },
  {
   "cell_type": "markdown",
   "metadata": {},
   "source": [
    "### 최소 분리노드 크기"
   ]
  },
  {
   "cell_type": "code",
   "execution_count": 22,
   "metadata": {},
   "outputs": [
    {
     "name": "stderr",
     "output_type": "stream",
     "text": [
      "/home/pirl/anaconda3/lib/python3.7/site-packages/ipykernel_launcher.py:13: DataConversionWarning: A column-vector y was passed when a 1d array was expected. Please change the shape of y to (n_samples,), for example using ravel().\n",
      "  del sys.path[0]\n",
      "/home/pirl/anaconda3/lib/python3.7/site-packages/ipykernel_launcher.py:13: DataConversionWarning: A column-vector y was passed when a 1d array was expected. Please change the shape of y to (n_samples,), for example using ravel().\n",
      "  del sys.path[0]\n",
      "/home/pirl/anaconda3/lib/python3.7/site-packages/ipykernel_launcher.py:13: DataConversionWarning: A column-vector y was passed when a 1d array was expected. Please change the shape of y to (n_samples,), for example using ravel().\n",
      "  del sys.path[0]\n",
      "/home/pirl/anaconda3/lib/python3.7/site-packages/ipykernel_launcher.py:13: DataConversionWarning: A column-vector y was passed when a 1d array was expected. Please change the shape of y to (n_samples,), for example using ravel().\n",
      "  del sys.path[0]\n",
      "/home/pirl/anaconda3/lib/python3.7/site-packages/ipykernel_launcher.py:13: DataConversionWarning: A column-vector y was passed when a 1d array was expected. Please change the shape of y to (n_samples,), for example using ravel().\n",
      "  del sys.path[0]\n",
      "/home/pirl/anaconda3/lib/python3.7/site-packages/ipykernel_launcher.py:13: DataConversionWarning: A column-vector y was passed when a 1d array was expected. Please change the shape of y to (n_samples,), for example using ravel().\n",
      "  del sys.path[0]\n",
      "/home/pirl/anaconda3/lib/python3.7/site-packages/ipykernel_launcher.py:13: DataConversionWarning: A column-vector y was passed when a 1d array was expected. Please change the shape of y to (n_samples,), for example using ravel().\n",
      "  del sys.path[0]\n",
      "/home/pirl/anaconda3/lib/python3.7/site-packages/ipykernel_launcher.py:13: DataConversionWarning: A column-vector y was passed when a 1d array was expected. Please change the shape of y to (n_samples,), for example using ravel().\n",
      "  del sys.path[0]\n",
      "/home/pirl/anaconda3/lib/python3.7/site-packages/ipykernel_launcher.py:13: DataConversionWarning: A column-vector y was passed when a 1d array was expected. Please change the shape of y to (n_samples,), for example using ravel().\n",
      "  del sys.path[0]\n",
      "/home/pirl/anaconda3/lib/python3.7/site-packages/ipykernel_launcher.py:13: DataConversionWarning: A column-vector y was passed when a 1d array was expected. Please change the shape of y to (n_samples,), for example using ravel().\n",
      "  del sys.path[0]\n"
     ]
    },
    {
     "data": {
      "text/plain": [
       "<matplotlib.legend.Legend at 0x7f4af9410eb8>"
      ]
     },
     "execution_count": 22,
     "metadata": {},
     "output_type": "execute_result"
    },
    {
     "data": {
      "image/png": "[encoded data removed]",
      "text/plain": [
       "<Figure size 432x288 with 1 Axes>"
      ]
     },
     "metadata": {
      "needs_background": "light"
     },
     "output_type": "display_data"
    }
   ],
   "source": [
    "# Train/Test Score 저장할 list\n",
    "train_accuracy = []; test_accuracy = []; train_f1 = []; test_f1 = []\n",
    "\n",
    "# leaf\n",
    "para_leaf = [leaf*10 for leaf in range(1, 11)]\n",
    "\n",
    "\n",
    "for v_leaf in para_leaf:\n",
    "    rf = RFC(n_estimators = params['n_estimators'],\n",
    "             max_depth = params['max_depth'],\n",
    "             min_samples_split = params['min_samples_split'],\n",
    "             min_samples_leaf = v_leaf)\n",
    "    rf.fit(df_train_s, df_train_y)\n",
    "    y_train_pred = rf.predict(df_train_s)\n",
    "    y_test_pred = rf.predict(df_test_s)\n",
    "    train_accuracy.append(rf.score(df_train_s, df_train_y))\n",
    "    test_accuracy.append(rf.score(df_test_s, df_test_y))\n",
    "    train_f1.append(f1_score(df_train_y, y_train_pred, average='micro'))\n",
    "    test_f1.append(f1_score(df_test_y, y_test_pred, average='micro'))\n",
    "    \n",
    "    \n",
    "df_score_leaf = pd.DataFrame({'leaf': para_leaf,\n",
    "                             'TrainScore': train_accuracy,\n",
    "                             'TestScore': test_accuracy,\n",
    "                             'TrainF1': train_f1,\n",
    "                             'TestF1': test_f1})\n",
    "\n",
    "plt.plot(para_leaf, train_accuracy, linestyle='-', label=\"Train Score\")\n",
    "plt.plot(para_leaf, test_accuracy, linestyle='--', label=\"Test Score\")\n",
    "plt.plot(para_leaf, train_f1, linestyle='-', label=\"Train F1\")\n",
    "plt.plot(para_leaf, test_f1, linestyle='--', label=\"Test F1\")\n",
    "plt.legend()"
   ]
  },
  {
   "cell_type": "code",
   "execution_count": 23,
   "metadata": {},
   "outputs": [
    {
     "data": {
      "text/html": [
       "<div>\n",
       "<style scoped>\n",
       "    .dataframe tbody tr th:only-of-type {\n",
       "        vertical-align: middle;\n",
       "    }\n",
       "\n",
       "    .dataframe tbody tr th {\n",
       "        vertical-align: top;\n",
       "    }\n",
       "\n",
       "    .dataframe thead th {\n",
       "        text-align: right;\n",
       "    }\n",
       "</style>\n",
       "<table border=\"1\" class=\"dataframe\">\n",
       "  <thead>\n",
       "    <tr style=\"text-align: right;\">\n",
       "      <th></th>\n",
       "      <th>leaf</th>\n",
       "      <th>TrainScore</th>\n",
       "      <th>TestScore</th>\n",
       "      <th>TrainF1</th>\n",
       "      <th>TestF1</th>\n",
       "    </tr>\n",
       "  </thead>\n",
       "  <tbody>\n",
       "    <tr>\n",
       "      <th>0</th>\n",
       "      <td>10</td>\n",
       "      <td>0.617785</td>\n",
       "      <td>0.612248</td>\n",
       "      <td>0.617785</td>\n",
       "      <td>0.612248</td>\n",
       "    </tr>\n",
       "    <tr>\n",
       "      <th>1</th>\n",
       "      <td>20</td>\n",
       "      <td>0.615342</td>\n",
       "      <td>0.609840</td>\n",
       "      <td>0.615342</td>\n",
       "      <td>0.609840</td>\n",
       "    </tr>\n",
       "    <tr>\n",
       "      <th>2</th>\n",
       "      <td>30</td>\n",
       "      <td>0.613072</td>\n",
       "      <td>0.606710</td>\n",
       "      <td>0.613072</td>\n",
       "      <td>0.606710</td>\n",
       "    </tr>\n",
       "    <tr>\n",
       "      <th>3</th>\n",
       "      <td>40</td>\n",
       "      <td>0.610870</td>\n",
       "      <td>0.605586</td>\n",
       "      <td>0.610870</td>\n",
       "      <td>0.605586</td>\n",
       "    </tr>\n",
       "    <tr>\n",
       "      <th>4</th>\n",
       "      <td>50</td>\n",
       "      <td>0.605332</td>\n",
       "      <td>0.601413</td>\n",
       "      <td>0.605332</td>\n",
       "      <td>0.601413</td>\n",
       "    </tr>\n",
       "    <tr>\n",
       "      <th>5</th>\n",
       "      <td>60</td>\n",
       "      <td>0.601514</td>\n",
       "      <td>0.598924</td>\n",
       "      <td>0.601514</td>\n",
       "      <td>0.598924</td>\n",
       "    </tr>\n",
       "    <tr>\n",
       "      <th>6</th>\n",
       "      <td>70</td>\n",
       "      <td>0.592260</td>\n",
       "      <td>0.592182</td>\n",
       "      <td>0.592260</td>\n",
       "      <td>0.592182</td>\n",
       "    </tr>\n",
       "    <tr>\n",
       "      <th>9</th>\n",
       "      <td>100</td>\n",
       "      <td>0.590368</td>\n",
       "      <td>0.590096</td>\n",
       "      <td>0.590368</td>\n",
       "      <td>0.590096</td>\n",
       "    </tr>\n",
       "    <tr>\n",
       "      <th>7</th>\n",
       "      <td>80</td>\n",
       "      <td>0.593326</td>\n",
       "      <td>0.590015</td>\n",
       "      <td>0.593326</td>\n",
       "      <td>0.590015</td>\n",
       "    </tr>\n",
       "    <tr>\n",
       "      <th>8</th>\n",
       "      <td>90</td>\n",
       "      <td>0.590058</td>\n",
       "      <td>0.589052</td>\n",
       "      <td>0.590058</td>\n",
       "      <td>0.589052</td>\n",
       "    </tr>\n",
       "  </tbody>\n",
       "</table>\n",
       "</div>"
      ],
      "text/plain": [
       "   leaf  TrainScore  TestScore   TrainF1    TestF1\n",
       "0    10    0.617785   0.612248  0.617785  0.612248\n",
       "1    20    0.615342   0.609840  0.615342  0.609840\n",
       "2    30    0.613072   0.606710  0.613072  0.606710\n",
       "3    40    0.610870   0.605586  0.610870  0.605586\n",
       "4    50    0.605332   0.601413  0.605332  0.601413\n",
       "5    60    0.601514   0.598924  0.601514  0.598924\n",
       "6    70    0.592260   0.592182  0.592260  0.592182\n",
       "9   100    0.590368   0.590096  0.590368  0.590096\n",
       "7    80    0.593326   0.590015  0.593326  0.590015\n",
       "8    90    0.590058   0.589052  0.590058  0.589052"
      ]
     },
     "execution_count": 23,
     "metadata": {},
     "output_type": "execute_result"
    }
   ],
   "source": [
    "df_score_leaf.sort_values('TestF1', ascending = False)"
   ]
  },
  {
   "cell_type": "code",
   "execution_count": 24,
   "metadata": {},
   "outputs": [],
   "source": [
    "params['min_samples_leaf'] = 10"
   ]
  },
  {
   "cell_type": "markdown",
   "metadata": {},
   "source": [
    "### 최대 사용 변수"
   ]
  },
  {
   "cell_type": "code",
   "execution_count": 25,
   "metadata": {},
   "outputs": [
    {
     "name": "stderr",
     "output_type": "stream",
     "text": [
      "/home/pirl/anaconda3/lib/python3.7/site-packages/ipykernel_launcher.py:14: DataConversionWarning: A column-vector y was passed when a 1d array was expected. Please change the shape of y to (n_samples,), for example using ravel().\n",
      "  \n",
      "/home/pirl/anaconda3/lib/python3.7/site-packages/ipykernel_launcher.py:14: DataConversionWarning: A column-vector y was passed when a 1d array was expected. Please change the shape of y to (n_samples,), for example using ravel().\n",
      "  \n",
      "/home/pirl/anaconda3/lib/python3.7/site-packages/ipykernel_launcher.py:14: DataConversionWarning: A column-vector y was passed when a 1d array was expected. Please change the shape of y to (n_samples,), for example using ravel().\n",
      "  \n",
      "/home/pirl/anaconda3/lib/python3.7/site-packages/ipykernel_launcher.py:14: DataConversionWarning: A column-vector y was passed when a 1d array was expected. Please change the shape of y to (n_samples,), for example using ravel().\n",
      "  \n",
      "/home/pirl/anaconda3/lib/python3.7/site-packages/ipykernel_launcher.py:14: DataConversionWarning: A column-vector y was passed when a 1d array was expected. Please change the shape of y to (n_samples,), for example using ravel().\n",
      "  \n",
      "/home/pirl/anaconda3/lib/python3.7/site-packages/ipykernel_launcher.py:14: DataConversionWarning: A column-vector y was passed when a 1d array was expected. Please change the shape of y to (n_samples,), for example using ravel().\n",
      "  \n",
      "/home/pirl/anaconda3/lib/python3.7/site-packages/ipykernel_launcher.py:14: DataConversionWarning: A column-vector y was passed when a 1d array was expected. Please change the shape of y to (n_samples,), for example using ravel().\n",
      "  \n",
      "/home/pirl/anaconda3/lib/python3.7/site-packages/ipykernel_launcher.py:14: DataConversionWarning: A column-vector y was passed when a 1d array was expected. Please change the shape of y to (n_samples,), for example using ravel().\n",
      "  \n",
      "/home/pirl/anaconda3/lib/python3.7/site-packages/ipykernel_launcher.py:14: DataConversionWarning: A column-vector y was passed when a 1d array was expected. Please change the shape of y to (n_samples,), for example using ravel().\n",
      "  \n"
     ]
    },
    {
     "data": {
      "text/plain": [
       "<matplotlib.legend.Legend at 0x7f4af938be80>"
      ]
     },
     "execution_count": 25,
     "metadata": {},
     "output_type": "execute_result"
    },
    {
     "data": {
      "image/png": "[encoded data removed]",
      "text/plain": [
       "<Figure size 432x288 with 1 Axes>"
      ]
     },
     "metadata": {
      "needs_background": "light"
     },
     "output_type": "display_data"
    }
   ],
   "source": [
    "# Train/Test Score 저장할 list\n",
    "train_accuracy = []; test_accuracy = []; train_f1 = []; test_f1 = []\n",
    "\n",
    "# feature\n",
    "para_feature = [feature for feature in range(5, len(df_train_s.columns))]\n",
    "\n",
    "\n",
    "for v_feature in para_feature:\n",
    "    rf = RFC(n_estimators = params['n_estimators'],\n",
    "             max_depth = params['max_depth'],\n",
    "             min_samples_leaf = params['min_samples_leaf'],\n",
    "             min_samples_split = params['min_samples_split'],\n",
    "             max_features = v_feature)\n",
    "    rf.fit(df_train_s, df_train_y)\n",
    "    y_train_pred = rf.predict(df_train_s)\n",
    "    y_test_pred = rf.predict(df_test_s)\n",
    "    train_accuracy.append(rf.score(df_train_s, df_train_y))\n",
    "    test_accuracy.append(rf.score(df_test_s, df_test_y))\n",
    "    train_f1.append(f1_score(df_train_y, y_train_pred, average='micro'))\n",
    "    test_f1.append(f1_score(df_test_y, y_test_pred, average='micro'))\n",
    "    \n",
    "    \n",
    "df_score_feature = pd.DataFrame({'feature': para_feature,\n",
    "                             'TrainScore': train_accuracy,\n",
    "                             'TestScore': test_accuracy,\n",
    "                             'TrainF1': train_f1,\n",
    "                             'TestF1': test_f1})\n",
    "\n",
    "plt.plot(para_feature, train_accuracy, linestyle='-', label=\"Train Score\")\n",
    "plt.plot(para_feature, test_accuracy, linestyle='--', label=\"Test Score\")\n",
    "plt.plot(para_feature, train_f1, linestyle='-', label=\"Train F1\")\n",
    "plt.plot(para_feature, test_f1, linestyle='--', label=\"Test F1\")\n",
    "plt.legend()"
   ]
  },
  {
   "cell_type": "code",
   "execution_count": 26,
   "metadata": {},
   "outputs": [
    {
     "data": {
      "text/html": [
       "<div>\n",
       "<style scoped>\n",
       "    .dataframe tbody tr th:only-of-type {\n",
       "        vertical-align: middle;\n",
       "    }\n",
       "\n",
       "    .dataframe tbody tr th {\n",
       "        vertical-align: top;\n",
       "    }\n",
       "\n",
       "    .dataframe thead th {\n",
       "        text-align: right;\n",
       "    }\n",
       "</style>\n",
       "<table border=\"1\" class=\"dataframe\">\n",
       "  <thead>\n",
       "    <tr style=\"text-align: right;\">\n",
       "      <th></th>\n",
       "      <th>feature</th>\n",
       "      <th>TrainScore</th>\n",
       "      <th>TestScore</th>\n",
       "      <th>TrainF1</th>\n",
       "      <th>TestF1</th>\n",
       "    </tr>\n",
       "  </thead>\n",
       "  <tbody>\n",
       "    <tr>\n",
       "      <th>1</th>\n",
       "      <td>6</td>\n",
       "      <td>0.619023</td>\n",
       "      <td>0.613292</td>\n",
       "      <td>0.619023</td>\n",
       "      <td>0.613292</td>\n",
       "    </tr>\n",
       "    <tr>\n",
       "      <th>4</th>\n",
       "      <td>9</td>\n",
       "      <td>0.618989</td>\n",
       "      <td>0.612489</td>\n",
       "      <td>0.618989</td>\n",
       "      <td>0.612489</td>\n",
       "    </tr>\n",
       "    <tr>\n",
       "      <th>7</th>\n",
       "      <td>12</td>\n",
       "      <td>0.618610</td>\n",
       "      <td>0.612248</td>\n",
       "      <td>0.618610</td>\n",
       "      <td>0.612248</td>\n",
       "    </tr>\n",
       "    <tr>\n",
       "      <th>5</th>\n",
       "      <td>10</td>\n",
       "      <td>0.619057</td>\n",
       "      <td>0.612168</td>\n",
       "      <td>0.619057</td>\n",
       "      <td>0.612168</td>\n",
       "    </tr>\n",
       "    <tr>\n",
       "      <th>0</th>\n",
       "      <td>5</td>\n",
       "      <td>0.619161</td>\n",
       "      <td>0.612007</td>\n",
       "      <td>0.619161</td>\n",
       "      <td>0.612007</td>\n",
       "    </tr>\n",
       "    <tr>\n",
       "      <th>6</th>\n",
       "      <td>11</td>\n",
       "      <td>0.618989</td>\n",
       "      <td>0.611847</td>\n",
       "      <td>0.618989</td>\n",
       "      <td>0.611847</td>\n",
       "    </tr>\n",
       "    <tr>\n",
       "      <th>3</th>\n",
       "      <td>8</td>\n",
       "      <td>0.618748</td>\n",
       "      <td>0.611526</td>\n",
       "      <td>0.618748</td>\n",
       "      <td>0.611526</td>\n",
       "    </tr>\n",
       "    <tr>\n",
       "      <th>8</th>\n",
       "      <td>13</td>\n",
       "      <td>0.618645</td>\n",
       "      <td>0.611446</td>\n",
       "      <td>0.618645</td>\n",
       "      <td>0.611446</td>\n",
       "    </tr>\n",
       "    <tr>\n",
       "      <th>2</th>\n",
       "      <td>7</td>\n",
       "      <td>0.618954</td>\n",
       "      <td>0.611205</td>\n",
       "      <td>0.618954</td>\n",
       "      <td>0.611205</td>\n",
       "    </tr>\n",
       "  </tbody>\n",
       "</table>\n",
       "</div>"
      ],
      "text/plain": [
       "   feature  TrainScore  TestScore   TrainF1    TestF1\n",
       "1        6    0.619023   0.613292  0.619023  0.613292\n",
       "4        9    0.618989   0.612489  0.618989  0.612489\n",
       "7       12    0.618610   0.612248  0.618610  0.612248\n",
       "5       10    0.619057   0.612168  0.619057  0.612168\n",
       "0        5    0.619161   0.612007  0.619161  0.612007\n",
       "6       11    0.618989   0.611847  0.618989  0.611847\n",
       "3        8    0.618748   0.611526  0.618748  0.611526\n",
       "8       13    0.618645   0.611446  0.618645  0.611446\n",
       "2        7    0.618954   0.611205  0.618954  0.611205"
      ]
     },
     "execution_count": 26,
     "metadata": {},
     "output_type": "execute_result"
    }
   ],
   "source": [
    "df_score_feature.sort_values('TestF1', ascending = False)"
   ]
  },
  {
   "cell_type": "code",
   "execution_count": 27,
   "metadata": {},
   "outputs": [],
   "source": [
    "params['max_features'] = 6"
   ]
  },
  {
   "cell_type": "markdown",
   "metadata": {},
   "source": [
    "### 최종 모형"
   ]
  },
  {
   "cell_type": "code",
   "execution_count": 28,
   "metadata": {
    "scrolled": true
   },
   "outputs": [
    {
     "name": "stderr",
     "output_type": "stream",
     "text": [
      "/home/pirl/anaconda3/lib/python3.7/site-packages/ipykernel_launcher.py:6: DataConversionWarning: A column-vector y was passed when a 1d array was expected. Please change the shape of y to (n_samples,), for example using ravel().\n",
      "  \n"
     ]
    },
    {
     "data": {
      "text/plain": [
       "RandomForestClassifier(bootstrap=True, class_weight=None, criterion='gini',\n",
       "                       max_depth=16, max_features=6, max_leaf_nodes=None,\n",
       "                       min_impurity_decrease=0.0, min_impurity_split=None,\n",
       "                       min_samples_leaf=10, min_samples_split=100,\n",
       "                       min_weight_fraction_leaf=0.0, n_estimators=110,\n",
       "                       n_jobs=None, oob_score=False, random_state=None,\n",
       "                       verbose=0, warm_start=False)"
      ]
     },
     "execution_count": 28,
     "metadata": {},
     "output_type": "execute_result"
    }
   ],
   "source": [
    "rf_final = RFC(n_estimators = params['n_estimators'],\n",
    "               max_depth = params['max_depth'],\n",
    "             min_samples_leaf = params['min_samples_leaf'],\n",
    "             min_samples_split = params['min_samples_split'],\n",
    "             max_features = params['max_features'])\n",
    "rf_final.fit(df_train_s, df_train_y)"
   ]
  },
  {
   "cell_type": "code",
   "execution_count": 29,
   "metadata": {
    "scrolled": true
   },
   "outputs": [
    {
     "name": "stdout",
     "output_type": "stream",
     "text": [
      "F1: 0.613\n",
      "\n",
      "Accuracy: 0.613\n",
      "\n",
      "Confusion Mat:\n",
      "[[ 860  452   32    4  225   99]\n",
      " [ 357 1261   25    4   86  178]\n",
      " [  27    8  689  216  232   91]\n",
      " [  10   16  287  780   97  150]\n",
      " [  74   34   83   18 2266  864]\n",
      " [  38   78   28   42  967 1781]]\n"
     ]
    }
   ],
   "source": [
    "y_pred = rf_final.predict(df_test_s)\n",
    "\n",
    "# f1 score\n",
    "f1Score = f1_score(df_test_y, y_pred, average = 'micro')\n",
    "\n",
    "print('F1: {0:.3f}\\n'.format(f1Score))\n",
    "print('Accuracy: {0:.3f}\\n'.format(accuracy_score(df_test_y, y_pred)))\n",
    "print('Confusion Mat:\\n{}'.format(confusion_matrix(df_test_y, y_pred)))"
   ]
  },
  {
   "cell_type": "code",
   "execution_count": 30,
   "metadata": {},
   "outputs": [
    {
     "data": {
      "text/html": [
       "<div>\n",
       "<style scoped>\n",
       "    .dataframe tbody tr th:only-of-type {\n",
       "        vertical-align: middle;\n",
       "    }\n",
       "\n",
       "    .dataframe tbody tr th {\n",
       "        vertical-align: top;\n",
       "    }\n",
       "\n",
       "    .dataframe thead th {\n",
       "        text-align: right;\n",
       "    }\n",
       "</style>\n",
       "<table border=\"1\" class=\"dataframe\">\n",
       "  <thead>\n",
       "    <tr style=\"text-align: right;\">\n",
       "      <th></th>\n",
       "      <th>Feature</th>\n",
       "      <th>Importance</th>\n",
       "    </tr>\n",
       "  </thead>\n",
       "  <tbody>\n",
       "    <tr>\n",
       "      <th>0</th>\n",
       "      <td>gender_MALE</td>\n",
       "      <td>0.157</td>\n",
       "    </tr>\n",
       "    <tr>\n",
       "      <th>2</th>\n",
       "      <td>age_40대</td>\n",
       "      <td>0.114</td>\n",
       "    </tr>\n",
       "    <tr>\n",
       "      <th>9</th>\n",
       "      <td>cityGradeIS_2급지</td>\n",
       "      <td>0.113</td>\n",
       "    </tr>\n",
       "    <tr>\n",
       "      <th>5</th>\n",
       "      <td>marital_SINGLE</td>\n",
       "      <td>0.111</td>\n",
       "    </tr>\n",
       "    <tr>\n",
       "      <th>10</th>\n",
       "      <td>cityGradeIS_3급지</td>\n",
       "      <td>0.086</td>\n",
       "    </tr>\n",
       "    <tr>\n",
       "      <th>1</th>\n",
       "      <td>age_30대</td>\n",
       "      <td>0.074</td>\n",
       "    </tr>\n",
       "    <tr>\n",
       "      <th>3</th>\n",
       "      <td>age_50대</td>\n",
       "      <td>0.062</td>\n",
       "    </tr>\n",
       "    <tr>\n",
       "      <th>11</th>\n",
       "      <td>cityGradeIS_4급지</td>\n",
       "      <td>0.059</td>\n",
       "    </tr>\n",
       "    <tr>\n",
       "      <th>7</th>\n",
       "      <td>residence_HOUSE</td>\n",
       "      <td>0.052</td>\n",
       "    </tr>\n",
       "    <tr>\n",
       "      <th>12</th>\n",
       "      <td>cityGradeIS_5급지</td>\n",
       "      <td>0.050</td>\n",
       "    </tr>\n",
       "    <tr>\n",
       "      <th>8</th>\n",
       "      <td>residence_OFFICETEL</td>\n",
       "      <td>0.048</td>\n",
       "    </tr>\n",
       "    <tr>\n",
       "      <th>4</th>\n",
       "      <td>age_60대 이상</td>\n",
       "      <td>0.036</td>\n",
       "    </tr>\n",
       "    <tr>\n",
       "      <th>13</th>\n",
       "      <td>cityGradeIS_6급지</td>\n",
       "      <td>0.027</td>\n",
       "    </tr>\n",
       "    <tr>\n",
       "      <th>6</th>\n",
       "      <td>residence_ETC.</td>\n",
       "      <td>0.011</td>\n",
       "    </tr>\n",
       "  </tbody>\n",
       "</table>\n",
       "</div>"
      ],
      "text/plain": [
       "                Feature  Importance\n",
       "0           gender_MALE       0.157\n",
       "2               age_40대       0.114\n",
       "9       cityGradeIS_2급지       0.113\n",
       "5        marital_SINGLE       0.111\n",
       "10      cityGradeIS_3급지       0.086\n",
       "1               age_30대       0.074\n",
       "3               age_50대       0.062\n",
       "11      cityGradeIS_4급지       0.059\n",
       "7       residence_HOUSE       0.052\n",
       "12      cityGradeIS_5급지       0.050\n",
       "8   residence_OFFICETEL       0.048\n",
       "4            age_60대 이상       0.036\n",
       "13      cityGradeIS_6급지       0.027\n",
       "6        residence_ETC.       0.011"
      ]
     },
     "execution_count": 30,
     "metadata": {},
     "output_type": "execute_result"
    }
   ],
   "source": [
    "df_importance = pd.DataFrame()\n",
    "v_feature_name = df_train_s.columns\n",
    "df_importance['Feature'] = v_feature_name\n",
    "df_importance['Importance'] = rf_final.feature_importances_ # TREECLASS.feature_importances_\n",
    "\n",
    "df_importance.sort_values('Importance', ascending=False, inplace=True)\n",
    "df_importance.round(3)"
   ]
  },
  {
   "cell_type": "code",
   "execution_count": 31,
   "metadata": {
    "scrolled": true
   },
   "outputs": [
    {
     "data": {
      "text/plain": [
       "Text(0, 0.5, '변수')"
      ]
     },
     "execution_count": 31,
     "metadata": {},
     "output_type": "execute_result"
    },
    {
     "data": {
      "image/png": "[encoded data removed]",
      "text/plain": [
       "<Figure size 720x1440 with 1 Axes>"
      ]
     },
     "metadata": {
      "needs_background": "light"
     },
     "output_type": "display_data"
    }
   ],
   "source": [
    "df_importance.sort_values('Importance', ascending=True, inplace=True)\n",
    "coordinates=range(len(df_importance))\n",
    "plt.figure(figsize=(10,20))\n",
    "\n",
    "plt.barh(y=coordinates, width=df_importance['Importance'])\n",
    "plt.yticks(coordinates, df_importance['Feature'])\n",
    "plt.xlabel('변수 중요도')\n",
    "plt.ylabel('변수')"
   ]
  },
  {
   "cell_type": "markdown",
   "metadata": {},
   "source": [
    "# 전체 데이터에 예측"
   ]
  },
  {
   "cell_type": "code",
   "execution_count": 32,
   "metadata": {},
   "outputs": [
    {
     "data": {
      "text/plain": [
       "Index(['gender_MALE', 'age_30대', 'age_40대', 'age_50대', 'age_60대 이상',\n",
       "       'marital_SINGLE', 'residence_ETC.', 'residence_HOUSE',\n",
       "       'residence_OFFICETEL', 'cityGradeIS_2급지', 'cityGradeIS_3급지',\n",
       "       'cityGradeIS_4급지', 'cityGradeIS_5급지', 'cityGradeIS_6급지'],\n",
       "      dtype='object')"
      ]
     },
     "execution_count": 32,
     "metadata": {},
     "output_type": "execute_result"
    }
   ],
   "source": [
    "v_feature_name"
   ]
  },
  {
   "cell_type": "code",
   "execution_count": 33,
   "metadata": {
    "scrolled": true
   },
   "outputs": [
    {
     "name": "stdout",
     "output_type": "stream",
     "text": [
      "<class 'pandas.core.frame.DataFrame'>\n",
      "Int64Index: 42334 entries, 0 to 49644\n",
      "Data columns (total 14 columns):\n",
      "gender_MALE            42334 non-null uint8\n",
      "age_30대                42334 non-null uint8\n",
      "age_40대                42334 non-null uint8\n",
      "age_50대                42334 non-null uint8\n",
      "age_60대 이상             42334 non-null uint8\n",
      "marital_SINGLE         42334 non-null uint8\n",
      "residence_ETC.         42334 non-null uint8\n",
      "residence_HOUSE        42334 non-null uint8\n",
      "residence_OFFICETEL    42334 non-null uint8\n",
      "cityGradeIS_2급지        42334 non-null uint8\n",
      "cityGradeIS_3급지        42334 non-null uint8\n",
      "cityGradeIS_4급지        42334 non-null uint8\n",
      "cityGradeIS_5급지        42334 non-null uint8\n",
      "cityGradeIS_6급지        42334 non-null uint8\n",
      "dtypes: uint8(14)\n",
      "memory usage: 909.5 KB\n"
     ]
    }
   ],
   "source": [
    "df_customer = df.query('customerType == \"PERSONAL\"')\n",
    "\n",
    "df_total_x = pd.get_dummies(df_customer[['gender', 'age', 'marital', 'residence', 'cityGradeIS']],\n",
    "                            drop_first = True)\n",
    "df_total_x.info()"
   ]
  },
  {
   "cell_type": "code",
   "execution_count": 34,
   "metadata": {},
   "outputs": [],
   "source": [
    "y_pred = rf_final.predict(df_total_x)"
   ]
  },
  {
   "cell_type": "code",
   "execution_count": 35,
   "metadata": {},
   "outputs": [
    {
     "name": "stderr",
     "output_type": "stream",
     "text": [
      "/home/pirl/anaconda3/lib/python3.7/site-packages/ipykernel_launcher.py:2: SettingWithCopyWarning: \n",
      "A value is trying to be set on a copy of a slice from a DataFrame.\n",
      "Try using .loc[row_indexer,col_indexer] = value instead\n",
      "\n",
      "See the caveats in the documentation: http://pandas.pydata.org/pandas-docs/stable/indexing.html#indexing-view-versus-copy\n",
      "  \n"
     ]
    }
   ],
   "source": [
    "df_total_pred = df_customer\n",
    "df_total_pred['predType_3'] = y_pred"
   ]
  },
  {
   "cell_type": "code",
   "execution_count": 36,
   "metadata": {},
   "outputs": [
    {
     "name": "stdout",
     "output_type": "stream",
     "text": [
      "<class 'pandas.core.frame.DataFrame'>\n",
      "Int64Index: 42334 entries, 0 to 49644\n",
      "Data columns (total 24 columns):\n",
      "gender              42334 non-null object\n",
      "customerType        42334 non-null object\n",
      "age                 42334 non-null object\n",
      "marital             42334 non-null object\n",
      "residence           42334 non-null object\n",
      "channel             42334 non-null object\n",
      "credit              42334 non-null object\n",
      "payment             42334 non-null object\n",
      "paymentCO           42334 non-null object\n",
      "province            42334 non-null object\n",
      "provinceIS          42334 non-null object\n",
      "cityGrade           42334 non-null object\n",
      "channelType         42334 non-null object\n",
      "contractExtended    42334 non-null object\n",
      "contractType        42334 non-null object\n",
      "contractType_1      42334 non-null object\n",
      "contractType_2      42334 non-null object\n",
      "cityGradeIS         42334 non-null object\n",
      "Termination_str     42334 non-null object\n",
      "maxDay_str          42334 non-null object\n",
      "maxGift_str         42334 non-null object\n",
      "Termination_rate    42334 non-null object\n",
      "overDue_str         42334 non-null object\n",
      "predType_3          42334 non-null object\n",
      "dtypes: object(24)\n",
      "memory usage: 8.1+ MB\n"
     ]
    }
   ],
   "source": [
    "df_total_pred.info()"
   ]
  },
  {
   "cell_type": "code",
   "execution_count": 37,
   "metadata": {},
   "outputs": [],
   "source": [
    "df_total_pred.to_csv('pred_type3.csv', encoding = 'euc-kr')"
   ]
  }
 ],
 "metadata": {
  "kernelspec": {
   "display_name": "Python 3",
   "language": "python",
   "name": "python3"
  },
  "language_info": {
   "codemirror_mode": {
    "name": "ipython",
    "version": 3
   },
   "file_extension": ".py",
   "mimetype": "text/x-python",
   "name": "python",
   "nbconvert_exporter": "python",
   "pygments_lexer": "ipython3",
   "version": "3.7.3"
  }
 },
 "nbformat": 4,
 "nbformat_minor": 2
}
